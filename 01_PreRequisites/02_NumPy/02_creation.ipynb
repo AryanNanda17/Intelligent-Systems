{
 "cells": [
  {
   "cell_type": "markdown",
   "id": "6c1882cc-d5d8-4291-9952-d05e3d68be0d",
   "metadata": {},
   "source": [
    "# Creation of NumPy Arrays"
   ]
  },
  {
   "cell_type": "markdown",
   "id": "44f2c32b-4e26-4be4-8dda-9c2f82d319ac",
   "metadata": {},
   "source": [
    "## Different Methods for numpy.array creation:\n",
    "- `np.array()`: Converts a Python list or tuple to a NumPy array.\n",
    "- `np.zeros()`: Creates an array of zeros with the specified shape.\n",
    "- `np.ones()`: Creates an array of ones with the specified shape.\n",
    "- `np.full()`: Creates an array filled with a specific value.\n",
    "- `np.arange()`: Generates an array of values within a specified range, with a specified step size.\n",
    "- `np.linspace()`: Generates a specified number of equally spaced values over a given interval.\n",
    "- `np.random.rand()`: Generates random numbers from a uniform distribution between 0 and 1.\n",
    "- `np.random.randn()`: Generates random numbers from a standard normal distribution.\n",
    "- `np.random.randint()`: Generates random integers within a given range.\n",
    "- `np.eye()`: Creates an identity matrix (diagonal of ones, with zeros elsewhere).\n",
    "- `np.diag()`: Creates a diagonal matrix with specified values along the diagonal."
   ]
  },
  {
   "cell_type": "code",
   "execution_count": 10,
   "id": "ae5d367d-a280-463b-b68c-f889975125c2",
   "metadata": {},
   "outputs": [
    {
     "name": "stdout",
     "output_type": "stream",
     "text": [
      "Array from list: [1 2 3 4 5]\n",
      "Array from tuple: [1 2 3 4 5]\n",
      "Array of zeros:\n",
      " [[0. 0. 0. 0.]\n",
      " [0. 0. 0. 0.]\n",
      " [0. 0. 0. 0.]]\n",
      "Array of ones:\n",
      " [[1. 1. 1. 1. 1.]\n",
      " [1. 1. 1. 1. 1.]]\n",
      "Array filled with 7:\n",
      " [[7 7 7]\n",
      " [7 7 7]\n",
      " [7 7 7]]\n",
      "Array using arange: [0 2 4 6 8]\n",
      "Array using linspace: [0.   0.25 0.5  0.75 1.  ]\n",
      "Array of random values (uniform):\n",
      " [[0.02604647 0.78790299 0.06238692]\n",
      " [0.8215219  0.75438649 0.85496081]]\n",
      "Array of random values (normal):\n",
      " [[-1.90570442 -2.4337004   0.13568554]\n",
      " [ 0.58798882 -0.52042586  0.42270448]]\n",
      "Array of random integers:\n",
      " [[6 4 2]\n",
      " [7 2 9]\n",
      " [5 8 4]]\n",
      "Identity matrix:\n",
      " [[1. 0. 0.]\n",
      " [0. 1. 0.]\n",
      " [0. 0. 1.]]\n",
      "Diagonal matrix:\n",
      " [[1 0 0]\n",
      " [0 2 0]\n",
      " [0 0 3]]\n"
     ]
    }
   ],
   "source": [
    "import numpy as np\n",
    "\n",
    "# 1. Using np.array() for converting Python list or tuple to NumPy array\n",
    "\n",
    "# 1a -> From Python List\n",
    "py_list = [1, 2, 3, 4, 5]\n",
    "arr_from_list = np.array(py_list)\n",
    "print(\"Array from list:\", arr_from_list)\n",
    "\n",
    "# 1b -> From Python tuple\n",
    "py_tuple = (1, 2, 3, 4, 5)\n",
    "arr_from_tuple = np.array(py_tuple)\n",
    "print(\"Array from tuple:\", arr_from_tuple)\n",
    "\n",
    "# 2. Using np.zeros() to create an array filled with zeros\n",
    "arr_zeros = np.zeros((3, 4))  # 3x4 matrix\n",
    "print(\"Array of zeros:\\n\", arr_zeros)\n",
    "\n",
    "# 3. Using np.ones() to create an array filled with ones\n",
    "arr_ones = np.ones((2, 5))  # 2x5 matrix\n",
    "print(\"Array of ones:\\n\", arr_ones)\n",
    "\n",
    "# 4. Using np.full() to create an array filled with a specific value\n",
    "arr_full = np.full((3, 3), 7)  # 3x3 matrix, all elements are 7\n",
    "print(\"Array filled with 7:\\n\", arr_full)\n",
    "\n",
    "# 5. Using np.arange() to create an array with a range of values\n",
    "arr_arange = np.arange(0, 10, 2)  # Values from 0 to 10 with step 2\n",
    "print(\"Array using arange:\", arr_arange)\n",
    "\n",
    "# 6. Using np.linspace() to create an array of equally spaced values\n",
    "arr_linspace = np.linspace(0, 1, 5)  # 5 equally spaced numbers between 0 and 1\n",
    "print(\"Array using linspace:\", arr_linspace)\n",
    "\n",
    "# 7. Using np.random.rand() to create an array of random numbers between 0 and 1\n",
    "arr_rand = np.random.rand(2, 3)  # 2x3 array with random values\n",
    "print(\"Array of random values (uniform):\\n\", arr_rand)\n",
    "\n",
    "# 8. Using np.random.randn() to create an array of random numbers from a standard normal distribution\n",
    "arr_randn = np.random.randn(2, 3)  # 2x3 array with values from standard normal distribution\n",
    "print(\"Array of random values (normal):\\n\", arr_randn)\n",
    "\n",
    "# 9. Using np.random.randint() to create an array of random integers within a specified range\n",
    "arr_randint = np.random.randint(1, 10, size=(3, 3))  # 3x3 array with random integers between 1 and 10\n",
    "print(\"Array of random integers:\\n\", arr_randint)\n",
    "\n",
    "# 10. Using np.eye() to create an identity matrix\n",
    "arr_eye = np.eye(3)  # 3x3 identity matrix\n",
    "print(\"Identity matrix:\\n\", arr_eye)\n",
    "\n",
    "# 11. Using np.diag() to create a diagonal matrix\n",
    "arr_diag = np.diag([1, 2, 3])  # Diagonal matrix with values 1, 2, 3 along the diagonal\n",
    "print(\"Diagonal matrix:\\n\", arr_diag)"
   ]
  }
 ],
 "metadata": {
  "kernelspec": {
   "display_name": "Python 3 (ipykernel)",
   "language": "python",
   "name": "python3"
  },
  "language_info": {
   "codemirror_mode": {
    "name": "ipython",
    "version": 3
   },
   "file_extension": ".py",
   "mimetype": "text/x-python",
   "name": "python",
   "nbconvert_exporter": "python",
   "pygments_lexer": "ipython3",
   "version": "3.12.0"
  }
 },
 "nbformat": 4,
 "nbformat_minor": 5
}
