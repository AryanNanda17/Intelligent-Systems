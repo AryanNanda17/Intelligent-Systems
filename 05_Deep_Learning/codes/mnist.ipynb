{
 "cells": [
  {
   "cell_type": "markdown",
   "id": "e13f6dc2-7dea-41dc-9c97-3be38e13f284",
   "metadata": {},
   "source": [
    "<div align=\"center\">\n",
    "<img src=\"./images/1_summary.png\" width=500px>\n",
    "</div>"
   ]
  },
  {
   "cell_type": "code",
   "execution_count": null,
   "id": "85a639d0-dba0-4369-8867-7cc7590fdfac",
   "metadata": {},
   "outputs": [],
   "source": []
  }
 ],
 "metadata": {
  "kernelspec": {
   "display_name": "Python 3 (ipykernel)",
   "language": "python",
   "name": "python3"
  },
  "language_info": {
   "codemirror_mode": {
    "name": "ipython",
    "version": 3
   },
   "file_extension": ".py",
   "mimetype": "text/x-python",
   "name": "python",
   "nbconvert_exporter": "python",
   "pygments_lexer": "ipython3",
   "version": "3.12.0"
  }
 },
 "nbformat": 4,
 "nbformat_minor": 5
}
