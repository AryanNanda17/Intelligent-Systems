{
 "cells": [
  {
   "cell_type": "markdown",
   "id": "688499d1-71a7-40f7-b5d5-797b3213e395",
   "metadata": {},
   "source": [
    "# Importing Numpy"
   ]
  },
  {
   "cell_type": "markdown",
   "id": "92ab047b-2892-44e0-a1d1-e767c0e3f0d0",
   "metadata": {},
   "source": [
    "- To use NumPy in your Python program, you first need to import it. The standard way to import NumPy is:\n",
    "\n",
    "  ```python\n",
    "  import numpy as np\n",
    "  ```\n",
    "\n",
    "-> What this does:\n",
    "- import numpy: This tells Python to load the NumPy library, which provides support for handling large, multi-dimensional arrays and matrices, along with a collection of mathematical functions to operate on these arrays.\n",
    "\n",
    "- as np: This gives NumPy the alias np, making it quicker and easier to refer to throughout your code. Instead of writing numpy.array every time, you can simply write np.array\n"
   ]
  },
  {
   "cell_type": "markdown",
   "id": "1e79d034-793e-4671-b08b-8661bf2487f4",
   "metadata": {},
   "source": [
    "-> `ndarray` (short for N-dimensional array) is the core data structure in NumPy.\n",
    "Key points:\n",
    "- Multi-dimensional: Can represent arrays with any number of dimensions (1D, 2D, 3D, etc.).\n",
    "- Homogeneous: All elements in an `ndarray` have the same data type (e.g., integers, floats).\n",
    "- Efficient: Optimized for fast numerical computations.\n"
   ]
  },
  {
   "cell_type": "markdown",
   "id": "07339c02-2b25-4fcb-823c-0dec47d7a228",
   "metadata": {},
   "source": [
    "# Advantages of NumPy Arrays over Python Lists "
   ]
  },
  {
   "cell_type": "markdown",
   "id": "280afa2b-f328-4d1c-ac5c-698989fec82a",
   "metadata": {},
   "source": [
    "## 1. Data Types\n",
    "\n",
    "- Python Lists:\n",
    "    - Can hold elements of different data types (heterogeneous). This flexibility increases overhead and slows down operations involving numerical data.\n",
    "    - Example: [1, \"string\", 3.5]\n",
    "\n",
    "- NumPy Arrays:\n",
    "    - Enforce homogeneous data types (all elements must have the same type). This consistency allows NumPy to use specialized and optimized algorithms.\n",
    "    - The data type can be explicitly specified for better precision control (e.g., np.int32, np.float64)."
   ]
  },
  {
   "cell_type": "code",
   "execution_count": 20,
   "id": "2c0c6144-c1d4-46fd-9dc4-89db8cc003e9",
   "metadata": {},
   "outputs": [
    {
     "name": "stdout",
     "output_type": "stream",
     "text": [
      "NumPy array data type: float32\n"
     ]
    }
   ],
   "source": [
    "import numpy as np\n",
    "\n",
    "# Python Lists\n",
    "ls = [1, \"string\", 3.5]   # elements of different types\n",
    "\n",
    "# numpy_array\n",
    "numpy_array = np.array([1, 2, 3], dtype=np.float32) # all elements of same type\n",
    "print(\"NumPy array data type:\", numpy_array.dtype)"
   ]
  },
  {
   "cell_type": "markdown",
   "id": "5f273483-43c7-429f-8d01-fc27574a24b7",
   "metadata": {},
   "source": [
    "## 2. Memory Usage\n",
    "\n",
    "- **Python Lists**:\n",
    "  - Require more memory as they store references (pointers) to objects, with additional metadata overhead.\n",
    "  - Memory usage increases significantly with larger datasets.\n",
    "\n",
    "- **NumPy Arrays**:\n",
    "  - Use contiguous memory blocks and store data directly, resulting in more compact and memory-efficient storage."
   ]
  },
  {
   "cell_type": "code",
   "execution_count": 1,
   "id": "14207260-f0ce-448d-b4f4-6631d7512e42",
   "metadata": {},
   "outputs": [
    {
     "name": "stdout",
     "output_type": "stream",
     "text": [
      "Memory usage of Python list: 104\n",
      "Memory usage of NumPy array: 40\n"
     ]
    }
   ],
   "source": [
    "import sys  # Used to get the memory size of Python objects\n",
    "import numpy as np  \n",
    "\n",
    "python_list = [1, 2, 3, 4, 5]\n",
    "numpy_array = np.array([1, 2, 3, 4, 5])\n",
    "\n",
    "# sys.getsizeof() returns the memory size of the Python object, including overhead\n",
    "print(\"Memory usage of Python list:\", sys.getsizeof(python_list))\n",
    "\n",
    "# .nbytes returns the total number of bytes consumed by the elements of the NumPy array\n",
    "print(\"Memory usage of NumPy array:\", numpy_array.nbytes)"
   ]
  },
  {
   "cell_type": "markdown",
   "id": "b3b8c00e-319c-4d41-9f78-a38403d661c4",
   "metadata": {},
   "source": [
    "## 3. Performance\n",
    "\n",
    "- Python Lists:\n",
    "\n",
    "    - Slower for numerical computations due to their dynamic and flexible nature.\n",
    "    - Require explicit loops or list comprehensions for element-wise operations, which can be computationally expensive.\n",
    "- NumPy Arrays:\n",
    "\n",
    "    - Highly optimized for numerical computations with vectorized operations (no need for explicit loops).\n",
    "    - Operations are implemented in C/C++, offering faster execution compared to Python's interpreted loops."
   ]
  },
  {
   "cell_type": "code",
   "execution_count": 2,
   "id": "5e5e07c6-7747-41b4-baa3-8da2e33b637a",
   "metadata": {},
   "outputs": [
    {
     "name": "stdout",
     "output_type": "stream",
     "text": [
      "Time for Python list: 0.035356760025024414\n",
      "Time for NumPy array: 0.002477884292602539\n"
     ]
    }
   ],
   "source": [
    "import time\n",
    "import numpy as np\n",
    "\n",
    "# Large dataset\n",
    "python_list = list(range(1, 1000000))\n",
    "numpy_array = np.array(python_list)\n",
    "\n",
    "# Using Python list\n",
    "start = time.time()\n",
    "python_result = [x * 2 for x in python_list]\n",
    "print(\"Time for Python list:\", time.time() - start)\n",
    "\n",
    "# Using NumPy array\n",
    "start = time.time()\n",
    "numpy_result = numpy_array * 2\n",
    "print(\"Time for NumPy array:\", time.time() - start)"
   ]
  },
  {
   "cell_type": "markdown",
   "id": "aedd5b2b-71cf-4678-b56b-c6bc1b369c25",
   "metadata": {},
   "source": [
    "## 4. Advanced Operations\n",
    "- NumPy provides built-in functions for mathematical operations, linear algebra, Fourier transforms, and statistical computations.\n",
    "- Python lists require additional code or external libraries to perform similar operations."
   ]
  },
  {
   "cell_type": "code",
   "execution_count": 16,
   "id": "6dd2af9e-dca0-496c-9011-28aff743ef51",
   "metadata": {},
   "outputs": [
    {
     "name": "stdout",
     "output_type": "stream",
     "text": [
      "Square root: [1.         1.41421356 1.73205081 2.        ]\n",
      "Dot product: 30\n",
      "Square root: [1.0, 1.4142135623730951, 1.7320508075688772, 2.0]\n",
      "Dot product: 30\n"
     ]
    }
   ],
   "source": [
    "# Numpy Array\n",
    "import numpy as np\n",
    "\n",
    "a = np.array([1, 2, 3, 4])\n",
    "\n",
    "print(\"Square root:\", np.sqrt(a))\n",
    "print(\"Dot product:\", np.dot(a, a))\n",
    "\n",
    "# Python List\n",
    "import math  \n",
    "\n",
    "b = [1, 2, 3, 4]\n",
    "print(\"Square root:\", [math.sqrt(x) for x in b])\n",
    "\n",
    "dot_product_b = sum(x * y for x, y in zip(b, b))\n",
    "print(\"Dot product:\", dot_product_b)"
   ]
  }
 ],
 "metadata": {
  "kernelspec": {
   "display_name": "Python 3 (ipykernel)",
   "language": "python",
   "name": "python3"
  },
  "language_info": {
   "codemirror_mode": {
    "name": "ipython",
    "version": 3
   },
   "file_extension": ".py",
   "mimetype": "text/x-python",
   "name": "python",
   "nbconvert_exporter": "python",
   "pygments_lexer": "ipython3",
   "version": "3.12.0"
  }
 },
 "nbformat": 4,
 "nbformat_minor": 5
}
