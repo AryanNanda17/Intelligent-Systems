{
 "cells": [
  {
   "cell_type": "markdown",
   "id": "599247d0-d850-415e-a88f-ea1598f4e28c",
   "metadata": {},
   "source": [
    "# Data Cleaning\n",
    "\n",
    "Data cleaning is a critical step in the data analysis pipeline. It involves preparing raw data for analysis by addressing issues such as missing values, duplicates, irrelevant data, and inconsistencies. In Pandas, a popular Python library for data manipulation, there are several methods to handle common data cleaning tasks."
   ]
  },
  {
   "cell_type": "markdown",
   "id": "854b3bc0-4f42-4a11-9e1f-09e969ab8bd9",
   "metadata": {},
   "source": [
    "## Key Steps in Data Cleaning Using Pandas\n",
    "### 1. Handling Missing Data\n",
    "Missing data is one of the most common problems in datasets. Pandas provides several ways to deal with missing values (NaN).\n",
    "\n",
    "Identifying missing values: You can identify missing data using isna() or isnull(). These functions return a DataFrame of the same shape with True where data is missing."
   ]
  },
  {
   "cell_type": "code",
   "execution_count": 12,
   "id": "1ad041ad-0b6e-4332-9c5f-60fa2b814d51",
   "metadata": {},
   "outputs": [
    {
     "name": "stdout",
     "output_type": "stream",
     "text": [
      "    Name  Type 1  Attack  Defense\n",
      "0  False   False   False    False\n",
      "1  False   False   False    False\n",
      "2  False   False   False    False\n",
      "3  False   False   False    False\n",
      "4   True   False    True    False\n"
     ]
    }
   ],
   "source": [
    "import pandas as pd\n",
    "\n",
    "data = {\n",
    "    'Name': ['Bulbasaur', 'Ivysaur', 'Venusaur', 'Charmander', None],\n",
    "    'Type 1': ['Grass', 'Grass', 'Grass', 'Fire', 'Fire'],\n",
    "    'Attack': [49, 62, 82, 52, None],\n",
    "    'Defense': [49, 63, 83, 43, 58]\n",
    "}\n",
    "\n",
    "df = pd.DataFrame(data)\n",
    "\n",
    "# Check for missing values\n",
    "print(df.isna())"
   ]
  },
  {
   "cell_type": "markdown",
   "id": "59df3fb2-d01c-4df5-99a0-00f43ccec376",
   "metadata": {},
   "source": [
    "#### Handling missing data:\n",
    "\n",
    "- Drop missing values: You can remove rows or columns with missing data using dropna()."
   ]
  },
  {
   "cell_type": "code",
   "execution_count": 14,
   "id": "23dd11c0-0a63-406b-ae9d-1d09eaca3708",
   "metadata": {},
   "outputs": [
    {
     "name": "stdout",
     "output_type": "stream",
     "text": [
      "         Name Type 1  Attack  Defense\n",
      "0   Bulbasaur  Grass    49.0       49\n",
      "1     Ivysaur  Grass    62.0       63\n",
      "2    Venusaur  Grass    82.0       83\n",
      "3  Charmander   Fire    52.0       43\n"
     ]
    }
   ],
   "source": [
    "# Drop rows with missing values\n",
    "df_cleaned = df.dropna()\n",
    "print(df_cleaned)"
   ]
  },
  {
   "cell_type": "markdown",
   "id": "25f7b798-2282-4036-98e9-a6bee55f6c5b",
   "metadata": {},
   "source": [
    "- Fill missing values: You can fill missing data using fillna() by providing a value, the mean, or forward/backward filling."
   ]
  },
  {
   "cell_type": "code",
   "execution_count": 15,
   "id": "d2ca2601-62dd-4976-98a8-a7dc9420fdeb",
   "metadata": {},
   "outputs": [
    {
     "name": "stdout",
     "output_type": "stream",
     "text": [
      "         Name Type 1  Attack  Defense\n",
      "0   Bulbasaur  Grass   49.00       49\n",
      "1     Ivysaur  Grass   62.00       63\n",
      "2    Venusaur  Grass   82.00       83\n",
      "3  Charmander   Fire   52.00       43\n",
      "4        None   Fire   61.25       58\n"
     ]
    }
   ],
   "source": [
    "# Fill missing values with the mean\n",
    "df['Attack'] = df['Attack'].fillna(df['Attack'].mean())\n",
    "print(df)"
   ]
  },
  {
   "cell_type": "markdown",
   "id": "c39f07c5-1ac8-4aa9-8d22-53aeae260e10",
   "metadata": {},
   "source": [
    "### 2. Removing Duplicates \n",
    "Duplicate rows in your dataset can distort analysis. You can remove duplicates using the drop_duplicates() function."
   ]
  },
  {
   "cell_type": "code",
   "execution_count": 17,
   "id": "5aee54e7-d6af-45e4-b469-e7742aee8efd",
   "metadata": {},
   "outputs": [
    {
     "name": "stdout",
     "output_type": "stream",
     "text": [
      "        Name Type 1  Attack  Defense\n",
      "0  Bulbasaur  Grass      49       49\n",
      "1    Ivysaur  Grass      62       63\n",
      "2   Venusaur  Grass      82       83\n"
     ]
    }
   ],
   "source": [
    "data = {\n",
    "    'Name': ['Bulbasaur', 'Ivysaur', 'Venusaur', 'Bulbasaur'],\n",
    "    'Type 1': ['Grass', 'Grass', 'Grass', 'Grass'],\n",
    "    'Attack': [49, 62, 82, 49],\n",
    "    'Defense': [49, 63, 83, 49]\n",
    "}\n",
    "\n",
    "df = pd.DataFrame(data)\n",
    "\n",
    "# Remove duplicate rows\n",
    "df_no_duplicates = df.drop_duplicates()\n",
    "print(df_no_duplicates)"
   ]
  },
  {
   "cell_type": "markdown",
   "id": "ecbec88d-1043-473b-a5bc-debba9509b1e",
   "metadata": {},
   "source": [
    "### 3. Scaling Data \n",
    "Scaling or normalizing data ensures that all features are on the same scale, which is important when using algorithms that are sensitive to the magnitude of features, such as K-Means or neural networks.\n",
    "\n",
    "- Min-Max Scaling: Scales the values between a specified range, typically [0, 1]."
   ]
  },
  {
   "cell_type": "code",
   "execution_count": 21,
   "id": "f98bc084-6beb-4eb9-b9c2-5c319aa0289a",
   "metadata": {},
   "outputs": [
    {
     "name": "stdout",
     "output_type": "stream",
     "text": [
      "        Name Type 1    Attack   Defense\n",
      "0  Bulbasaur  Grass  0.000000  0.000000\n",
      "1    Ivysaur  Grass  0.393939  0.411765\n",
      "2   Venusaur  Grass  1.000000  1.000000\n",
      "3  Bulbasaur  Grass  0.000000  0.000000\n"
     ]
    }
   ],
   "source": [
    "from sklearn.preprocessing import MinMaxScaler\n",
    "\n",
    "scaler = MinMaxScaler()\n",
    "\n",
    "# Assume df['Attack'] and df['Defense'] need to be scaled\n",
    "df[['Attack', 'Defense']] = scaler.fit_transform(df[['Attack', 'Defense']])\n",
    "print(df)"
   ]
  },
  {
   "cell_type": "markdown",
   "id": "2db6a769-44ca-4ff1-9b6a-f27cdb104d2c",
   "metadata": {},
   "source": [
    "- Standardization (Z-score Normalization): Scales the data to have a mean of 0 and a standard deviation of 1."
   ]
  },
  {
   "cell_type": "code",
   "execution_count": 22,
   "id": "5ec62fcf-b3b5-4ccc-905b-8d21280d1f23",
   "metadata": {},
   "outputs": [
    {
     "name": "stdout",
     "output_type": "stream",
     "text": [
      "        Name Type 1    Attack   Defense\n",
      "0  Bulbasaur  Grass -0.851852 -0.861550\n",
      "1    Ivysaur  Grass  0.111111  0.143592\n",
      "2   Venusaur  Grass  1.592593  1.579508\n",
      "3  Bulbasaur  Grass -0.851852 -0.861550\n"
     ]
    }
   ],
   "source": [
    "from sklearn.preprocessing import StandardScaler\n",
    "\n",
    "scaler = StandardScaler()\n",
    "\n",
    "# Assume df['Attack'] and df['Defense'] need to be standardized\n",
    "df[['Attack', 'Defense']] = scaler.fit_transform(df[['Attack', 'Defense']])\n",
    "print(df)"
   ]
  },
  {
   "cell_type": "markdown",
   "id": "5086a009-614c-4607-a2c1-54146c737060",
   "metadata": {},
   "source": [
    "### Encoding Categorical Data\n",
    "Many machine learning algorithms require numerical input, so categorical variables need to be converted into numerical format."
   ]
  },
  {
   "cell_type": "markdown",
   "id": "32331880-326b-4d1e-833e-4bb66ec86113",
   "metadata": {},
   "source": [
    "- Label Encoding: Converts each unique category value to an integer."
   ]
  },
  {
   "cell_type": "code",
   "execution_count": 25,
   "id": "047a16e1-1f84-4fce-a9c5-323394ab0751",
   "metadata": {},
   "outputs": [
    {
     "name": "stdout",
     "output_type": "stream",
     "text": [
      "        Name  Type 1  Attack  Defense\n",
      "0  Bulbasaur       0      49       49\n",
      "1    Ivysaur       2      62       63\n",
      "2   Venusaur       1      82       83\n",
      "3  Bulbasaur       0      49       49\n"
     ]
    }
   ],
   "source": [
    "from sklearn.preprocessing import LabelEncoder\n",
    "data = {\n",
    "    'Name': ['Bulbasaur', 'Ivysaur', 'Venusaur', 'Bulbasaur'],\n",
    "    'Type 1': ['Grass', 'water', 'air', 'Grass'],\n",
    "    'Attack': [49, 62, 82, 49],\n",
    "    'Defense': [49, 63, 83, 49]\n",
    "}\n",
    "\n",
    "df = pd.DataFrame(data)\n",
    "\n",
    "encoder = LabelEncoder()\n",
    "\n",
    "# Encoding 'Type 1' column\n",
    "df['Type 1'] = encoder.fit_transform(df['Type 1'])\n",
    "print(df)"
   ]
  },
  {
   "cell_type": "markdown",
   "id": "bc4dbcc8-6ad8-4582-a5d7-3e919dfeeae3",
   "metadata": {},
   "source": [
    "- One-Hot Encoding: Creates a new binary column for each category in the categorical column.\n",
    "\n",
    "One-Hot Encoding is a technique used to convert categorical data into a format that can be provided to machine learning algorithms, particularly those that require numerical input. It works by creating new binary columns for each category within a categorical feature and assigning a 1 or 0 depending on whether a given observation belongs to that category.\n",
    "<img src=\"./images/onehot.png\">"
   ]
  },
  {
   "cell_type": "code",
   "execution_count": 26,
   "id": "b451f394-97c5-4c36-a17f-b69352e67314",
   "metadata": {},
   "outputs": [
    {
     "name": "stdout",
     "output_type": "stream",
     "text": [
      "        Name  Attack  Defense  Type 1_0  Type 1_1  Type 1_2\n",
      "0  Bulbasaur      49       49      True     False     False\n",
      "1    Ivysaur      62       63     False     False      True\n",
      "2   Venusaur      82       83     False      True     False\n",
      "3  Bulbasaur      49       49      True     False     False\n"
     ]
    }
   ],
   "source": [
    "df_encoded = pd.get_dummies(df, columns=['Type 1'])\n",
    "print(df_encoded)"
   ]
  }
 ],
 "metadata": {
  "kernelspec": {
   "display_name": "Python 3 (ipykernel)",
   "language": "python",
   "name": "python3"
  },
  "language_info": {
   "codemirror_mode": {
    "name": "ipython",
    "version": 3
   },
   "file_extension": ".py",
   "mimetype": "text/x-python",
   "name": "python",
   "nbconvert_exporter": "python",
   "pygments_lexer": "ipython3",
   "version": "3.12.0"
  }
 },
 "nbformat": 4,
 "nbformat_minor": 5
}
