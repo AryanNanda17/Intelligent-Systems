{
 "cells": [
  {
   "cell_type": "markdown",
   "metadata": {},
   "source": [
    "# Lambda Function\n",
    "* In Python, an anonymous function is a function that is defined without a name.\n",
    "* While normal functions are defined using the ```def``` keyword in Python, anonymous functions are defined using the ```lambda``` keyword.\n",
    "* Hence, anonymous functions are also called lambda functions.\n",
    "* Syntax is as follows :- \n",
    "```python\n",
    "lambda arguments: expression\n",
    "```"
   ]
  },
  {
   "cell_type": "code",
   "execution_count": 1,
   "metadata": {},
   "outputs": [
    {
     "name": "stdout",
     "output_type": "stream",
     "text": [
      "9801\n"
     ]
    }
   ],
   "source": [
    "square = lambda x: x*x\n",
    "print(square(99))"
   ]
  },
  {
   "cell_type": "markdown",
   "metadata": {},
   "source": [
    "* In Python, we generally use lambda fn as an argument to a higher-order function (a function that takes in other functions as arguments).\n",
    "* **Map, filter, reduce** are known as higher order functions. \n",
    "- map(function, list) → this will apply the function(lambda fn) to every item in the list. map() applies a given function to each item of an iterable (like a list) and returns a map object (which is an iterator)."
   ]
  },
  {
   "cell_type": "code",
   "execution_count": 4,
   "metadata": {},
   "outputs": [
    {
     "name": "stdout",
     "output_type": "stream",
     "text": [
      "[1, 4, 9, 16, 25]\n",
      "[1, 4, 9, 16, 25]\n"
     ]
    }
   ],
   "source": [
    "# Example: Squaring numbers in a list\n",
    "numbers = [1, 2, 3, 4, 5]\n",
    "\n",
    "# Define a function that squares a number\n",
    "def square(x):\n",
    "    return x * x\n",
    "\n",
    "# Use map to apply 'square' function to each element of 'numbers'\n",
    "squared_numbers = map(square, numbers)\n",
    "\n",
    "# Convert to list to see the results\n",
    "print(list(squared_numbers))  # Output: [1, 4, 9, 16, 25]\n",
    "\n",
    "# OR\n",
    "\n",
    "squared_numbers = map(lambda x: x * x, numbers)\n",
    "print(list(squared_numbers))  # Output: [1, 4, 9, 16, 25]"
   ]
  },
  {
   "cell_type": "markdown",
   "metadata": {},
   "source": [
    "- filter(function, list) → filters the list based on the condition mentioned in the function(lambda). filter() applies a given function to each item of an iterable and returns only those items for which the function returns True."
   ]
  },
  {
   "cell_type": "code",
   "execution_count": 5,
   "metadata": {},
   "outputs": [
    {
     "name": "stdout",
     "output_type": "stream",
     "text": [
      "[2, 4, 6]\n",
      "[2, 4, 6]\n"
     ]
    }
   ],
   "source": [
    "# Example: Filtering out even numbers from a list\n",
    "numbers = [1, 2, 3, 4, 5, 6]\n",
    "\n",
    "# Define a function that returns True for even numbers\n",
    "def is_even(x):\n",
    "    return x % 2 == 0\n",
    "\n",
    "# Use filter to get only even numbers\n",
    "even_numbers = filter(is_even, numbers)\n",
    "\n",
    "# Convert to list to see the results\n",
    "print(list(even_numbers))  # Output: [2, 4, 6]\n",
    "\n",
    "# OR\n",
    "\n",
    "even_numbers = filter(lambda x: x % 2 == 0, numbers)\n",
    "print(list(even_numbers))  # Output: [2, 4, 6]"
   ]
  },
  {
   "cell_type": "markdown",
   "metadata": {},
   "source": [
    "- reduce(function, list) → does some operations on all the values from left to right and then returns a single value. reduce() is part of the functools module and applies a function cumulatively to the items of an iterable, reducing the iterable to a single value. This function is especially useful for aggregations like summing or multiplying all elements of a list. We can also add an initial value to it. "
   ]
  },
  {
   "cell_type": "code",
   "execution_count": 6,
   "metadata": {},
   "outputs": [
    {
     "name": "stdout",
     "output_type": "stream",
     "text": [
      "120\n",
      "120\n"
     ]
    }
   ],
   "source": [
    "from functools import reduce\n",
    "\n",
    "# Example: Finding the product of all numbers in a list\n",
    "numbers = [1, 2, 3, 4, 5]\n",
    "\n",
    "# Define a function that multiplies two numbers\n",
    "def multiply(x, y):\n",
    "    return x * y\n",
    "\n",
    "# Use reduce to apply 'multiply' cumulatively to the elements of 'numbers'\n",
    "product = reduce(multiply, numbers)\n",
    "\n",
    "print(product)  # Output: 120 (1*2*3*4*5)\n",
    "\n",
    "# OR\n",
    "\n",
    "product = reduce(lambda x, y: x * y, numbers)\n",
    "print(product)  # Output: 120"
   ]
  },
  {
   "cell_type": "markdown",
   "metadata": {},
   "source": [
    "In Python, the `enumerate()` function is a built-in function that adds a counter (index) to an iterable, such as a list, tuple, or string."
   ]
  },
  {
   "cell_type": "code",
   "execution_count": 9,
   "metadata": {},
   "outputs": [
    {
     "name": "stdout",
     "output_type": "stream",
     "text": [
      "0 apple\n",
      "1 banana\n",
      "2 cherry\n",
      "Letter at index 0 is h\n",
      "Letter at index 1 is e\n",
      "Letter at index 2 is l\n",
      "Letter at index 3 is l\n",
      "Letter at index 4 is o\n"
     ]
    }
   ],
   "source": [
    "fruits = ['apple', 'banana', 'cherry']\n",
    "for index, fruit in enumerate(fruits):\n",
    "    print(index, fruit)\n",
    "\n",
    "word = 'hello'\n",
    "for index, letter in enumerate(word):\n",
    "    print(f\"Letter at index {index} is {letter}\")"
   ]
  },
  {
   "cell_type": "markdown",
   "metadata": {},
   "source": [
    "- identifiers → names\n",
    "- keywords → special symbols that can’t be used for naming. like cout, cin etc.\n",
    "- python has only 33 keywords.(hence very easy language)\n",
    "- `.split()` → returns list of words that are split based on space\n",
    "- To find the ASCII value of a character do ord(character). In Python, we call this unicode value. To convert back from a Unicode value to its corresponding character, do chr(unicode value).\n",
    "- The .format() method is used to format strings by inserting variables or values into placeholders ({}) within a string."
   ]
  },
  {
   "cell_type": "code",
   "execution_count": 10,
   "metadata": {},
   "outputs": [
    {
     "name": "stdout",
     "output_type": "stream",
     "text": [
      "['hello', 'world']\n",
      "['apple', 'banana', 'cherry']\n"
     ]
    }
   ],
   "source": [
    "# Example 1: Using Default Separator\n",
    "s = \"hello world\"\n",
    "result = s.split()  # Splits on whitespace\n",
    "print(result)\n",
    "\n",
    "# Example 2: Specifying a Separator\n",
    "s = \"apple,banana,cherry\"\n",
    "result = s.split(\",\")  # Splits on commas\n",
    "print(result)"
   ]
  },
  {
   "cell_type": "code",
   "execution_count": 11,
   "metadata": {},
   "outputs": [
    {
     "name": "stdout",
     "output_type": "stream",
     "text": [
      "hello world\n",
      "hello world, the answer is 42\n"
     ]
    }
   ],
   "source": [
    "# Example 1: Basic Formatting\n",
    "x = \"world\"\n",
    "result = \"hello {}\".format(x)\n",
    "print(result)\n",
    "\n",
    "# Example 2: Formatting Multiple Values\n",
    "x = \"world\"\n",
    "y = 42\n",
    "result = \"hello {}, the answer is {}\".format(x, y)\n",
    "print(result)"
   ]
  },
  {
   "cell_type": "markdown",
   "metadata": {},
   "source": [
    "### Modules and Packages\n",
    "\n",
    "- Any separate python file is called a module\n",
    "- Package is a collection of these python modules in a folder.\n",
    "\n",
    "There are two types of modules and packages➖\n",
    "- Built in → These are made by python developers themselves.\n",
    "- Third Party → These are libraries that are made by other companies. Like numpy, matplotlib etc.\n",
    "- Whenever you are making a package in python, always make an __init__.py file which will contain all the methods that the package has got. "
   ]
  },
  {
   "cell_type": "code",
   "execution_count": 2,
   "metadata": {},
   "outputs": [
    {
     "name": "stdout",
     "output_type": "stream",
     "text": [
      "4.0\n",
      "4.0\n",
      "3.141592653589793\n",
      "4.0\n",
      "4.0\n",
      "[1 2 3]\n",
      "[1 2 3]\n",
      "[0.91405859 0.15387183 0.42599965]\n"
     ]
    }
   ],
   "source": [
    "# Import the entire module\n",
    "import math\n",
    "print(math.sqrt(16))  # Using the sqrt function from the math module\n",
    "\n",
    "# Import specific functions or classes from a module\n",
    "from math import sqrt, pi\n",
    "print(sqrt(16))  # Using sqrt function directly\n",
    "print(pi)  # Accessing pi directly\n",
    "\n",
    "# Import a module with an alias\n",
    "import math as m\n",
    "print(m.sqrt(16))  # Using the sqrt function from math with alias 'm'\n",
    "\n",
    "# Import all functions and classes from a module (not recommended for large modules)\n",
    "from math import *\n",
    "print(sqrt(16))  # Directly using sqrt without module name\n",
    "\n",
    "# Import submodules from a package\n",
    "import numpy.linalg  # Importing a submodule from the numpy package\n",
    "\n",
    "# Import an entire package (useful when working with packages with multiple modules)\n",
    "import numpy  # Importing the entire numpy package\n",
    "print(numpy.array([1, 2, 3]))  # Using numpy functionality\n",
    "\n",
    "# Import a package with an alias\n",
    "import numpy as np  # Using an alias for numpy package\n",
    "print(np.array([1, 2, 3]))  # Using numpy with alias 'np'\n",
    "\n",
    "# Import a specific module from a package\n",
    "from numpy import random  # Importing the random module from numpy package\n",
    "print(random.rand(3))  # Using the random module from numpy\n"
   ]
  },
  {
   "cell_type": "markdown",
   "metadata": {},
   "source": [
    "## Classes\n",
    "\n",
    "- A **class** is a blueprint or template for creating objects. It defines the structure and behavior (data and functions) that the objects created from the class will have. A class encapsulates data for the object and methods to manipulate that data.\n",
    "- An **object** is a specific instance of a class. It is a real-world entity created based on the blueprint defined by the class. Each object has its own copy of the member variables and can call the member functions defined by the class.\n",
    "- The term **instance** is often used interchangeably with the term **object**.\n",
    "\n",
    "### Instance Attributes:\n",
    "\n",
    "- **Definition**: Attributes that are specific to an instance (or object) of a class.\n",
    "- **Scope**: Each instance of the class has its own copy of the instance attributes.\n",
    "- **Access**: They are accessed via the instance of the class.\n",
    "\n",
    "### Class Attributes:\n",
    "\n",
    "- **Definition**: Attributes that belong to the class itself rather than any particular instance.\n",
    "- **Scope**: Shared by all instances of the class.\n",
    "- **Access**: Can be accessed either through the class itself or through any instance."
   ]
  },
  {
   "cell_type": "code",
   "execution_count": 3,
   "metadata": {},
   "outputs": [
    {
     "name": "stdout",
     "output_type": "stream",
     "text": [
      "Instance Attribute: 1\n",
      "Class Attribute: 20\n",
      "Instance Attribute: 2\n",
      "Class Attribute: 20\n"
     ]
    }
   ],
   "source": [
    "class MyClass:\n",
    "    # Class attribute (shared among all instances)\n",
    "    class_attribute = 10\n",
    "\n",
    "    def __init__(self, value):\n",
    "        # Instance attribute (unique to each object)\n",
    "        self.instance_attribute = value\n",
    "\n",
    "    def print_attributes(self):\n",
    "        print(f\"Instance Attribute: {self.instance_attribute}\")\n",
    "        print(f\"Class Attribute: {MyClass.class_attribute}\")\n",
    "# Create two objects of MyClass\n",
    "obj1 = MyClass(1)\n",
    "obj2 = MyClass(2)\n",
    "\n",
    "# Modify class attributes via the class\n",
    "MyClass.class_attribute = 20\n",
    "\n",
    "obj1.print_attributes()  # instance_attribute = 1, class_attribute = 20\n",
    "obj2.print_attributes()  # instance_attribute = 2, class_attribute = 20"
   ]
  },
  {
   "cell_type": "markdown",
   "metadata": {},
   "source": [
    "- In Python, the self parameter is an important part of defining instance methods within a class. \n",
    "### Purpose of `self` in Python Classes\n",
    "\n",
    "- `self` refers to the instance of the class on which a method is being called. It allows you to access instance attributes and methods from within class methods.\n",
    "- Every time you create an instance of a class, `self` points to that specific instance, enabling the method to manipulate its data.\n",
    "- By using `self`, you can differentiate between instance variables (attributes tied to the instance) and class variables (shared across all instances).\n",
    "- Instance variables are defined with `self.variable_name`, while class variables are defined directly under the class definition without `self`.\n",
    "- When a method is called on an object, Python automatically passes the object as the first argument to the method. This allows methods to access the instance's properties and other methods.\n",
    "\n",
    "-> More points\n",
    "- Initialize instance attributes inside the `__init__` method.\n",
    "- Value of instance attributes is specific to an instance whereas value of class attributes is always same.\n",
    "- In the `__init__` method, we can have more parameters to set values according to the instances through arguments.\n",
    "- `__del__` is a destructor in python.\n",
    "- destructor is always called at the end of the program.\n",
    "- In Python, there are three types of methods that can be defined within a class: **instance methods**, **class methods**, and **static methods**"
   ]
  },
  {
   "cell_type": "markdown",
   "metadata": {},
   "source": [
    "### 1. **Instance Methods**\n",
    "\n",
    "- **Definition**: Instance methods are the most common type of method in Python classes. These methods take `self` as their first argument, which refers to the instance of the class. This allows instance methods to access and modify object-specific data (i.e., instance attributes).\n",
    "- **Usage**: Typically used when you want to work with data that is unique to each instance of the class."
   ]
  },
  {
   "cell_type": "code",
   "execution_count": 4,
   "metadata": {},
   "outputs": [
    {
     "name": "stdout",
     "output_type": "stream",
     "text": [
      "Buddy is barking!\n"
     ]
    }
   ],
   "source": [
    "class Dog:\n",
    "    def __init__(self, name, age):\n",
    "        self.name = name  # Instance attribute\n",
    "        self.age = age    # Instance attribute\n",
    "\n",
    "    def bark(self):\n",
    "        print(f\"{self.name} is barking!\")  # Access instance attribute using self\n",
    "\n",
    "# Create an instance of Dog\n",
    "my_dog = Dog(\"Buddy\", 3)\n",
    "\n",
    "# Call the instance method\n",
    "my_dog.bark()  # Output: Buddy is barking!"
   ]
  },
  {
   "cell_type": "markdown",
   "metadata": {},
   "source": [
    "### 2. **Class Methods**\n",
    "\n",
    "- **Definition**: Class methods work with class attributes (attributes shared across all instances of the class) rather than instance attributes. These methods take `cls` as their first argument, which refers to the class itself (not the instance). Class methods are defined using the `@classmethod` decorator.\n",
    "- **Usage**: Class methods are used when you need to access or modify class-level attributes. They do not need access to instance-specific data."
   ]
  },
  {
   "cell_type": "code",
   "execution_count": 7,
   "metadata": {},
   "outputs": [
    {
     "name": "stdout",
     "output_type": "stream",
     "text": [
      "Wolf\n",
      "Wolf\n"
     ]
    }
   ],
   "source": [
    "class Dog:\n",
    "    # Class attribute\n",
    "    species = \"Canine\"\n",
    "\n",
    "    def __init__(self, name):\n",
    "        self.name = name  # Instance attribute\n",
    "\n",
    "    @classmethod\n",
    "    def change_species(cls, new_species):\n",
    "        cls.species = new_species  # Modify class attribute\n",
    "\n",
    "# Call the class method using the class itself\n",
    "Dog.change_species(\"Wolf\")\n",
    "\n",
    "# Check if the species was changed for all instances\n",
    "print(Dog.species)  # Output: Wolf\n",
    "\n",
    "# Create an instance of Dog\n",
    "my_dog = Dog(\"Buddy\")\n",
    "print(my_dog.species)  # Output: Wolf (all instances see the updated class attribute)"
   ]
  },
  {
   "cell_type": "markdown",
   "metadata": {},
   "source": [
    "### 3. **Static Methods**\n",
    "\n",
    "- **Definition**: Static methods don’t take `self` or `cls` as their first argument. These methods are bound neither to the class nor to an instance. They behave like regular functions but are included in the class for organizational purposes. Static methods are defined using the `@staticmethod` decorator.\n",
    "- **Usage**: Used when you want a method that logically belongs to a class but doesn’t require access to any instance or class-specific data. These methods are often utility functions."
   ]
  },
  {
   "cell_type": "code",
   "execution_count": 6,
   "metadata": {},
   "outputs": [
    {
     "name": "stdout",
     "output_type": "stream",
     "text": [
      "True\n",
      "False\n"
     ]
    }
   ],
   "source": [
    "class Dog:\n",
    "    def __init__(self, name, age):\n",
    "        self.name = name\n",
    "        self.age = age\n",
    "\n",
    "    @staticmethod\n",
    "    def is_puppy(age):\n",
    "        return age < 2\n",
    "\n",
    "# Call the static method using the class itself\n",
    "print(Dog.is_puppy(1))  # Output: True\n",
    "\n",
    "# Call the static method using an instance\n",
    "my_dog = Dog(\"Buddy\", 3)\n",
    "print(my_dog.is_puppy(my_dog.age))  # Output: False"
   ]
  },
  {
   "cell_type": "markdown",
   "metadata": {},
   "source": [
    "- Decorators are higher-order functions, meaning they take a function as an argument and return a new function (or the original function with some modifications).\n",
    "- Python provides a special syntax using the `@decorator_name` to apply decorators in a more readable way."
   ]
  },
  {
   "cell_type": "markdown",
   "metadata": {},
   "source": [
    "### Encapsulation\n",
    "\n",
    "**Encapsulation** in Python is a concept where the internal details of an object (its data and behavior) are hidden from the outside world, exposing only what is necessary. It helps in restricting access to certain methods and variables to protect the integrity of an object.\n",
    "\n",
    "### Access Specifiers:\n",
    "\n",
    "1. **Public**: Accessible from anywhere.\n",
    "2. **Protected (`_`)**: Indicated by a single underscore. It suggests that the variable or method is intended for internal use.\n",
    "3. **Private (`__`)**: Indicated by a double underscore. It prevents the variable or method from being accessed directly outside the class."
   ]
  },
  {
   "cell_type": "markdown",
   "metadata": {},
   "source": [
    "- In this example, `__model` and `__year` are private variables, accessed and modified using getter and setter methods. The `_make` variable is protected, following a naming convention indicating it's intended for internal use.\n",
    "- In Python, decorators can be used to create **getter** and **setter** methods for a class property in a more elegant and Pythonic way. The `@property` decorator is used to define a method as a getter, while the `@<property_name>.setter` decorator is used for defining a setter."
   ]
  },
  {
   "cell_type": "code",
   "execution_count": 9,
   "metadata": {},
   "outputs": [
    {
     "name": "stdout",
     "output_type": "stream",
     "text": [
      "Toyota\n",
      "Camry\n",
      "2020\n",
      "Corolla\n",
      "2022\n"
     ]
    }
   ],
   "source": [
    "class Car:\n",
    "    def __init__(self, make, model, year):\n",
    "        self._make = make          # Protected variable\n",
    "        self.__model = model       # Private variable\n",
    "        self.__year = year         # Private variable\n",
    "\n",
    "    # Getter for private variable 'model'\n",
    "    def get_model(self):\n",
    "        return self.__model\n",
    "\n",
    "    # Setter for private variable 'model'\n",
    "    def set_model(self, model):\n",
    "        self.__model = model\n",
    "\n",
    "    # Getter for private variable 'year'\n",
    "    def get_year(self):\n",
    "        return self.__year\n",
    "\n",
    "    # Setter for private variable 'year'\n",
    "    def set_year(self, year):\n",
    "        if year > 1885:  # Validation example (first car invented in 1886)\n",
    "            self.__year = year\n",
    "        else:\n",
    "            print(\"Invalid year for a car.\")\n",
    "\n",
    "# Example usage\n",
    "my_car = Car(\"Toyota\", \"Camry\", 2020)\n",
    "\n",
    "# Accessing protected variable\n",
    "print(my_car._make)  # Output: Toyota\n",
    "\n",
    "# Accessing private variables via getters\n",
    "print(my_car.get_model())  # Output: Camry\n",
    "print(my_car.get_year())   # Output: 2020\n",
    "\n",
    "# Modifying private variables via setters\n",
    "my_car.set_model(\"Corolla\")\n",
    "my_car.set_year(2022)\n",
    "\n",
    "print(my_car.get_model())  # Output: Corolla\n",
    "print(my_car.get_year())   # Output: 2022\n",
    "\n",
    "# Direct access to private variable will raise an error\n",
    "# print(my_car.__model)  # AttributeError: 'Car' object has no attribute '__model'"
   ]
  },
  {
   "cell_type": "markdown",
   "metadata": {},
   "source": [
    "### Example with Property Decorators\n",
    "\n",
    "Here's how you can use decorators to create getter and setter methods for encapsulating access to a private variable:"
   ]
  },
  {
   "cell_type": "code",
   "execution_count": 29,
   "metadata": {},
   "outputs": [
    {
     "name": "stdout",
     "output_type": "stream",
     "text": [
      "Camry\n",
      "2020\n",
      "Corolla\n",
      "2022\n",
      "Invalid year for a car.\n"
     ]
    }
   ],
   "source": [
    "class Car:\n",
    "    def __init__(self, make, model, year):\n",
    "        self._make = make          # Protected variable\n",
    "        self.__model = model       # Private variable\n",
    "        self.__year = year         # Private variable\n",
    "\n",
    "    # Getter for 'model' using @property\n",
    "    @property\n",
    "    def model(self):\n",
    "        return self.__model\n",
    "\n",
    "    # Setter for 'model' using @<property_name>.setter\n",
    "    @model.setter\n",
    "    def model(self, model):\n",
    "        self.__model = model\n",
    "\n",
    "    # Getter for 'year' using @property\n",
    "    @property\n",
    "    def year(self):\n",
    "        return self.__year\n",
    "\n",
    "    # Setter for 'year' using @<property_name>.setter\n",
    "    @year.setter\n",
    "    def year(self, year):\n",
    "        if year > 1885:  # Validation example (first car invented in 1886)\n",
    "            self.__year = year\n",
    "        else:\n",
    "            print(\"Invalid year for a car.\")\n",
    "\n",
    "# Example usage\n",
    "my_car = Car(\"Toyota\", \"Camry\", 2020)\n",
    "\n",
    "# Accessing private variables via property decorators\n",
    "print(my_car.model)  # Output: Camry\n",
    "print(my_car.year)   # Output: 2020\n",
    "\n",
    "# Modifying private variables via property decorators\n",
    "my_car.model = \"Corolla\"\n",
    "my_car.year = 2022\n",
    "\n",
    "print(my_car.model)  # Output: Corolla\n",
    "print(my_car.year)   # Output: 2022\n",
    "\n",
    "# Invalid year assignment\n",
    "my_car.year = 1800   # Output: Invalid year for a car."
   ]
  },
  {
   "cell_type": "markdown",
   "metadata": {},
   "source": [
    "### Explanation of above code cell\n",
    "\n",
    "- **`@property` Decorator**: The `@property` decorator converts a method into a \"getter\" for a property. In the example, `model` and `year` are defined as properties with the `@property` decorator, allowing them to be accessed like attributes.\n",
    "- **`@<property_name>.setter` Decorator**: The `@<property_name>.setter` decorator is used to define a \"setter\" for the property. It allows the property value to be modified. In the example, the `model` and `year` setters allow updating the private variables with some validation.\n",
    "\n",
    "Using decorators makes the code cleaner, eliminates the need for explicit getter and setter methods, and allows you to access the properties as if they were regular attributes."
   ]
  },
  {
   "cell_type": "markdown",
   "metadata": {},
   "source": [
    "### Inheritance\n",
    "\n",
    "**Inheritance** in Python is a concept where a new class (child or derived class) is created from an existing class (parent or base class). The child class inherits attributes and methods from the parent class, allowing for code reuse and the addition of new functionalities.\n",
    "\n",
    "### Basic Inheritance Example\n",
    "\n",
    "Here's an example demonstrating inheritance:"
   ]
  },
  {
   "cell_type": "code",
   "execution_count": 28,
   "metadata": {},
   "outputs": [
    {
     "name": "stdout",
     "output_type": "stream",
     "text": [
      "Toyota Camry is starting.\n",
      "Toyota Camry is honking.\n",
      "Toyota Camry is stopping.\n"
     ]
    }
   ],
   "source": [
    "# Parent class\n",
    "class Vehicle:\n",
    "    def __init__(self, make, model):\n",
    "        self.make = make\n",
    "        self.model = model\n",
    "\n",
    "    def start(self):\n",
    "        print(f\"{self.make} {self.model} is starting.\")\n",
    "\n",
    "    def stop(self):\n",
    "        print(f\"{self.make} {self.model} is stopping.\")\n",
    "\n",
    "# Child class inheriting from Vehicle\n",
    "class Car(Vehicle):\n",
    "    def __init__(self, make, model, year):\n",
    "        # Call the parent class constructor\n",
    "        super().__init__(make, model)\n",
    "        self.year = year\n",
    "\n",
    "    # New method specific to Car\n",
    "    def honk(self):\n",
    "        print(f\"{self.make} {self.model} is honking.\")\n",
    "\n",
    "# Example usage\n",
    "my_car = Car(\"Toyota\", \"Camry\", 2020)\n",
    "my_car.start()  # Inherited from Vehicle\n",
    "my_car.honk()   # Specific to Car\n",
    "my_car.stop()   # Inherited from Vehicle"
   ]
  },
  {
   "cell_type": "markdown",
   "metadata": {},
   "source": [
    "### Explanation of above code cell\n",
    "\n",
    "1. **Parent Class (Vehicle)**: Defines the basic structure for a vehicle, with `make`, `model`, and methods `start` and `stop`.\n",
    "2. **Child Class (Car)**: Inherits the attributes and methods from `Vehicle` using `super()`. It also introduces a new attribute (`year`) and a new method (`honk`).\n",
    "3. **Inheritance Benefits**: Allows `Car` to reuse the functionality of `Vehicle` while adding or modifying methods."
   ]
  },
  {
   "cell_type": "markdown",
   "metadata": {},
   "source": [
    "### Types of Inheritance\n",
    "\n",
    "1. **Single Inheritance**: One child class inherits from one parent class (as shown above).\n",
    "2. **Multiple Inheritance**: A child class inherits from more than one parent class.\n",
    "3. **Multilevel Inheritance**: A child class becomes a parent class for another child class.\n",
    "4. **Hierarchical Inheritance**: Multiple child classes inherit from the same parent class.\n",
    "5. **Hybrid Inheritance**: A combination of two or more types of inheritance.\n",
    "\n",
    "Inheritance enables the creation of a class hierarchy and encourages code reuse by allowing shared functionality across classes.\n",
    "\n",
    "**Multiple Inheritance** is a feature in Python where a child class can inherit from more than one parent class. This allows the child class to access attributes and methods from all the parent classes.\n",
    "### Example of Multiple Inheritance\n",
    "\n",
    "Here’s an example to illustrate multiple inheritance:"
   ]
  },
  {
   "cell_type": "code",
   "execution_count": 27,
   "metadata": {},
   "outputs": [
    {
     "name": "stdout",
     "output_type": "stream",
     "text": [
      "Engine started.\n",
      "Wheels are rotating.\n",
      "Car is driving.\n"
     ]
    }
   ],
   "source": [
    "# Parent class 1\n",
    "class Engine:\n",
    "    def start_engine(self):\n",
    "        print(\"Engine started.\")\n",
    "\n",
    "# Parent class 2\n",
    "class Wheels:\n",
    "    def rotate_wheels(self):\n",
    "        print(\"Wheels are rotating.\")\n",
    "\n",
    "# Child class inheriting from both Engine and Wheels\n",
    "class Car(Engine, Wheels):\n",
    "    def drive(self):\n",
    "        print(\"Car is driving.\")\n",
    "\n",
    "# Example usage\n",
    "my_car = Car()\n",
    "my_car.start_engine()  # Inherited from Engine\n",
    "my_car.rotate_wheels() # Inherited from Wheels\n",
    "my_car.drive()         # Specific to Car"
   ]
  },
  {
   "cell_type": "markdown",
   "metadata": {},
   "source": [
    "### Explanation of above code cell\n",
    "\n",
    "- **Parent Classes (Engine and Wheels)**: Define individual functionalities (`start_engine` and `rotate_wheels`).\n",
    "- **Child Class (Car)**: Inherits from both `Engine` and `Wheels`, combining the functionality of both parents.\n",
    "- **Multiple Inheritance** allows the `Car` class to use methods from both parent classes."
   ]
  },
  {
   "cell_type": "markdown",
   "metadata": {},
   "source": [
    "### Private and Protected in Inheritance\n",
    "\n",
    "1. **Protected Members (`_variable`)**:\n",
    "    - Indicated by a single underscore (`_`), suggesting that the variable or method is intended for internal use.\n",
    "    - Protected members can be accessed in the child class.\n",
    "2. **Private Members (`__variable`)**:\n",
    "    - Indicated by a double underscore (`__`), which makes the member name mangled to prevent direct access.\n",
    "    - Private members cannot be accessed directly in the child class, but they can be accessed using name mangling or through getter and setter methods.\n",
    "    \n",
    "Example with Private and Protected Members in Inheritance"
   ]
  },
  {
   "cell_type": "code",
   "execution_count": 26,
   "metadata": {},
   "outputs": [
    {
     "name": "stdout",
     "output_type": "stream",
     "text": [
      "Car make: Toyota\n",
      "Car model: Camry\n"
     ]
    }
   ],
   "source": [
    "# Parent class\n",
    "class Vehicle:\n",
    "    def __init__(self, make, model):\n",
    "        self._make = make          # Protected variable\n",
    "        self.__model = model       # Private variable\n",
    "\n",
    "    def get_model(self):\n",
    "        return self.__model\n",
    "\n",
    "# Child class inheriting from Vehicle\n",
    "class Car(Vehicle):\n",
    "    def __init__(self, make, model, year):\n",
    "        super().__init__(make, model)\n",
    "        self.year = year\n",
    "\n",
    "    def display_info(self):\n",
    "        print(f\"Car make: {self._make}\")    # Accessing protected variable\n",
    "        print(f\"Car model: {self.get_model()}\") # Accessing private variable through getter\n",
    "\n",
    "# Example usage\n",
    "my_car = Car(\"Toyota\", \"Camry\", 2020)\n",
    "my_car.display_info()\n",
    "\n",
    "# Trying to access private variable directly will result in an error\n",
    "# print(my_car.__model)  # AttributeError: 'Car' object has no attribute '__model'"
   ]
  },
  {
   "cell_type": "markdown",
   "metadata": {},
   "source": [
    "### Explanation of above code cell\n",
    "\n",
    "- **Protected Members (`_make`)**: Can be accessed within the child class (`Car`).\n",
    "- **Private Members (`__model`)**: Cannot be accessed directly in the child class due to name mangling but can be accessed through methods like `get_model`."
   ]
  },
  {
   "cell_type": "markdown",
   "metadata": {},
   "source": [
    "### Polymorphism\n",
    "\n",
    "**Polymorphism** in Python refers to the ability to use a single interface to represent different types or classes. It allows different classes to be treated as if they share the same interface, even though they may implement the interface in different ways.\n",
    "\n",
    "### Example of Polymorphism"
   ]
  },
  {
   "cell_type": "code",
   "execution_count": 25,
   "metadata": {},
   "outputs": [
    {
     "name": "stdout",
     "output_type": "stream",
     "text": [
      "Woof!\n",
      "Meow!\n"
     ]
    }
   ],
   "source": [
    "class Dog:\n",
    "    def speak(self):\n",
    "        return \"Woof!\"\n",
    "\n",
    "class Cat:\n",
    "    def speak(self):\n",
    "        return \"Meow!\"\n",
    "\n",
    "# Using polymorphism\n",
    "def animal_sound(animal):\n",
    "    print(animal.speak())\n",
    "\n",
    "# Example usage\n",
    "dog = Dog()\n",
    "cat = Cat()\n",
    "animal_sound(dog)  # Output: Woof!\n",
    "animal_sound(cat)  # Output: Meow!"
   ]
  },
  {
   "cell_type": "markdown",
   "metadata": {},
   "source": [
    "### Explanation of above code cell\n",
    "\n",
    "- Both `Dog` and `Cat` classes implement a `speak()` method, but they produce different outputs.\n",
    "- The `animal_sound` function can take any object with a `speak` method, demonstrating polymorphism."
   ]
  },
  {
   "cell_type": "markdown",
   "metadata": {},
   "source": [
    "### Abstraction\n",
    "\n",
    "**Abstraction** is the concept of hiding complex implementation details and exposing only essential features. It can be achieved using abstract classes and methods in Python, which are provided by the `abc` (Abstract Base Class) module.\n",
    "\n",
    "### Example of Abstraction"
   ]
  },
  {
   "cell_type": "code",
   "execution_count": 19,
   "metadata": {},
   "outputs": [
    {
     "name": "stdout",
     "output_type": "stream",
     "text": [
      "Woof!\n",
      "Meow!\n"
     ]
    },
    {
     "data": {
      "text/plain": [
       "' \\n### Explanation\\n\\n- **Abstract Base Class (`Animal`)**: Defines an abstract method `speak()`, which must be implemented by any subclass.\\n- **Concrete Classes (`Dog` and `Cat`)**: Implement the `speak()` method, providing specific behavior.\\n- **Abstraction** ensures that subclasses provide their own implementations while sharing a common interface.\\n'"
      ]
     },
     "execution_count": 19,
     "metadata": {},
     "output_type": "execute_result"
    }
   ],
   "source": [
    "from abc import ABC, abstractmethod\n",
    "\n",
    "# Abstract base class\n",
    "class Animal(ABC):\n",
    "    @abstractmethod\n",
    "    def speak(self):\n",
    "        pass\n",
    "        \n",
    "# Concrete class implementing the abstract method\n",
    "class Dog(Animal):\n",
    "    def speak(self):\n",
    "        return \"Woof!\"\n",
    "\n",
    "class Cat(Animal):\n",
    "    def speak(self):\n",
    "        return \"Meow!\"\n",
    "\n",
    "# Example usage\n",
    "dog = Dog()\n",
    "cat = Cat()\n",
    "print(dog.speak())  # Output: Woof!\n",
    "print(cat.speak())  # Output: Meow!"
   ]
  },
  {
   "cell_type": "markdown",
   "metadata": {},
   "source": [
    "### Explanation of above code cell\n",
    "\n",
    "- **Abstract Base Class (`Animal`)**: Defines an abstract method `speak()`, which must be implemented by any subclass.\n",
    "- **Concrete Classes (`Dog` and `Cat`)**: Implement the `speak()` method, providing specific behavior.\n",
    "- **Abstraction** ensures that subclasses provide their own implementations while sharing a common interface."
   ]
  },
  {
   "cell_type": "markdown",
   "metadata": {},
   "source": [
    "### omposition\n",
    "\n",
    "**Composition** in Python is a design principle where a class is composed of one or more objects from other classes. It allows for building complex objects by combining simpler objects, making use of their functionality. In composition, a \"has-a\" relationship is established, meaning that one class contains instances of another class.\n",
    "\n",
    "### Example of Composition"
   ]
  },
  {
   "cell_type": "code",
   "execution_count": 24,
   "metadata": {},
   "outputs": [
    {
     "name": "stdout",
     "output_type": "stream",
     "text": [
      "Engine started.\n",
      "Toyota Camry is driving.\n"
     ]
    }
   ],
   "source": [
    "class Engine:\n",
    "    def start(self):\n",
    "        print(\"Engine started.\")\n",
    "\n",
    "class Car:\n",
    "    def __init__(self, make, model):\n",
    "        self.make = make\n",
    "        self.model = model\n",
    "        self.engine = Engine()  # Car has an Engine\n",
    "\n",
    "    def drive(self):\n",
    "        self.engine.start()\n",
    "        print(f\"{self.make} {self.model} is driving.\")\n",
    "\n",
    "# Example usage\n",
    "my_car = Car(\"Toyota\", \"Camry\")\n",
    "my_car.drive()  # Output: Engine started. Toyota Camry is driving."
   ]
  },
  {
   "cell_type": "markdown",
   "metadata": {},
   "source": [
    "### Explanation of above code cell\n",
    "\n",
    "- The `Car` class **contains** an instance of the `Engine` class (`self.engine`), demonstrating composition.\n",
    "- This \"has-a\" relationship allows `Car` to use the functionality provided by `Engine` without inheriting from it."
   ]
  },
  {
   "cell_type": "markdown",
   "metadata": {},
   "source": [
    "### Composition vs. Inheritance\n",
    "\n",
    "1. **Relationship Type**:\n",
    "    - **Composition**: Represents a \"has-a\" relationship. One class contains another class as a part (e.g., a `Car` has an `Engine`).\n",
    "    - **Inheritance**: Represents an \"is-a\" relationship. The child class is a specialized form of the parent class (e.g., a `Car` is a `Vehicle`).\n",
    "2. **Code Reusability**:\n",
    "    - **Composition**: Promotes code reuse by combining different classes, allowing flexibility to change behavior by modifying the contained objects.\n",
    "    - **Inheritance**: Inherits properties and methods from the parent class, which can sometimes lead to a tightly coupled design.\n",
    "3. **Flexibility**:\n",
    "    - **Composition**: More flexible, as you can change the behavior by replacing the composed objects.\n",
    "    - **Inheritance**: Less flexible when modifying or extending the base class, as changes can affect all derived classes.\n",
    "4. **Use Cases**:\n",
    "    - **Composition**: Preferred when objects need to use functionality from multiple unrelated classes.\n",
    "    - **Inheritance**: Suitable for cases where there is a clear \"is-a\" relationship, and shared behavior across subclasses needs to be defined.\n",
    "    \n",
    "    \n",
    "Example of Inheritance vs. Composition"
   ]
  },
  {
   "cell_type": "code",
   "execution_count": 22,
   "metadata": {},
   "outputs": [],
   "source": [
    "# Inheritance example\n",
    "class Vehicle:\n",
    "    def start(self):\n",
    "        print(\"Vehicle started.\")\n",
    "\n",
    "class Car(Vehicle):  # Inherits from Vehicle\n",
    "    def drive(self):\n",
    "        print(\"Car is driving.\")\n",
    "\n",
    "# Composition example\n",
    "class Engine:\n",
    "    def start(self):\n",
    "        print(\"Engine started.\")\n",
    "\n",
    "class CarWithEngine:\n",
    "    def __init__(self):\n",
    "        self.engine = Engine()  # Has an Engine\n",
    "\n",
    "    def drive(self):\n",
    "        self.engine.start()\n",
    "        print(\"Car is driving.\")"
   ]
  },
  {
   "cell_type": "markdown",
   "metadata": {},
   "source": [
    "### dir function\n",
    "\n",
    "dir() is a built-in function used to return a list of the attributes and methods of an object, module, or class. It helps you explore the properties and capabilities of an object, especially when you're working with unfamiliar libraries or objects.\n",
    "Syntax:\n",
    "```\n",
    "dir([object])\n",
    "```\n",
    "- If no argument is passed, dir() will return a list of names in the current local scope.\n",
    "- If an argument (object, module, etc.) is passed, dir() will return a list of valid attributes for that object."
   ]
  },
  {
   "cell_type": "code",
   "execution_count": 23,
   "metadata": {},
   "outputs": [
    {
     "name": "stdout",
     "output_type": "stream",
     "text": [
      "['__doc__', '__file__', '__loader__', '__name__', '__package__', '__spec__', 'acos', 'acosh', 'asin', 'asinh', 'atan', 'atan2', 'atanh', 'cbrt', 'ceil', 'comb', 'copysign', 'cos', 'cosh', 'degrees', 'dist', 'e', 'erf', 'erfc', 'exp', 'exp2', 'expm1', 'fabs', 'factorial', 'floor', 'fmod', 'frexp', 'fsum', 'gamma', 'gcd', 'hypot', 'inf', 'isclose', 'isfinite', 'isinf', 'isnan', 'isqrt', 'lcm', 'ldexp', 'lgamma', 'log', 'log10', 'log1p', 'log2', 'modf', 'nan', 'nextafter', 'perm', 'pi', 'pow', 'prod', 'radians', 'remainder', 'sin', 'sinh', 'sqrt', 'sumprod', 'tan', 'tanh', 'tau', 'trunc', 'ulp']\n",
      "['__class__', '__delattr__', '__dict__', '__dir__', '__doc__', '__eq__', '__format__', '__ge__', '__getattribute__', '__getstate__', '__gt__', '__hash__', '__init__', '__init_subclass__', '__le__', '__lt__', '__module__', '__ne__', '__new__', '__reduce__', '__reduce_ex__', '__repr__', '__setattr__', '__sizeof__', '__str__', '__subclasshook__', '__weakref__', 'my_method', 'value']\n"
     ]
    }
   ],
   "source": [
    "# Example 1\n",
    "import math\n",
    "print(dir(math))  # Lists all functions and attributes in the math module, like ['__doc__', '__name__', 'acos', 'pi', etc.]\n",
    "\n",
    "# Example 2\n",
    "class MyClass:\n",
    "    def __init__(self, value):\n",
    "        self.value = value\n",
    "\n",
    "    def my_method(self):\n",
    "        return self.value\n",
    "\n",
    "obj = MyClass(42)\n",
    "print(dir(obj))  # Lists attributes and methods: ['__doc__', '__init__', '__module__', 'my_method', 'value']"
   ]
  }
 ],
 "metadata": {
  "kernelspec": {
   "display_name": "model",
   "language": "python",
   "name": "python3"
  },
  "language_info": {
   "codemirror_mode": {
    "name": "ipython",
    "version": 3
   },
   "file_extension": ".py",
   "mimetype": "text/x-python",
   "name": "python",
   "nbconvert_exporter": "python",
   "pygments_lexer": "ipython3",
   "version": "3.12.0"
  }
 },
 "nbformat": 4,
 "nbformat_minor": 2
}
