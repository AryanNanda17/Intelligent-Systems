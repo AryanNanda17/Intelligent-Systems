{
 "cells": [
  {
   "cell_type": "markdown",
   "id": "1a39205e-20a1-4e2c-b74d-ffbe960d2ea9",
   "metadata": {},
   "source": [
    "# Operations on Numpy Arrays"
   ]
  },
  {
   "cell_type": "markdown",
   "id": "0a04a3ca-dab8-49e8-802e-8e9643df7ad7",
   "metadata": {},
   "source": [
    "## 1. Arithmetic Operations"
   ]
  },
  {
   "cell_type": "code",
   "execution_count": 1,
   "id": "59a6dc24-50a5-455b-aa3b-5e73463c29bb",
   "metadata": {},
   "outputs": [
    {
     "name": "stdout",
     "output_type": "stream",
     "text": [
      "Addition: [6 6 6 6 6]\n",
      "Subtraction: [-4 -2  0  2  4]\n",
      "Multiplication: [5 8 9 8 5]\n",
      "Division: [0.2 0.5 1.  2.  5. ]\n",
      "Modulo: [1 2 0 0 0]\n",
      "Exponentiation: [ 1  4  9 16 25]\n",
      "Matrix multiplication (Dot product): 35\n",
      "Sine of array: [ 0.84147098  0.90929743  0.14112001 -0.7568025  -0.95892427]\n",
      "Radians: [0.         0.52359878 0.78539816 1.04719755 1.57079633]\n",
      "Natural Logarithm: [0.         0.69314718 1.09861229 1.38629436 1.60943791]\n",
      "Bitwise AND with 2: [0 2 2 0 0]\n",
      "Bitwise OR with 2: [3 2 3 6 7]\n"
     ]
    }
   ],
   "source": [
    "import numpy as np\n",
    "\n",
    "# Create two arrays\n",
    "a = np.array([1, 2, 3, 4, 5])\n",
    "b = np.array([5, 4, 3, 2, 1])\n",
    "\n",
    "# Addition\n",
    "add_result = a + b  # Output: [6, 6, 6, 6, 6]\n",
    "print(\"Addition:\", add_result)\n",
    "\n",
    "# Subtraction\n",
    "sub_result = a - b  # Output: [-4, -2, 0, 2, 4]\n",
    "print(\"Subtraction:\", sub_result)\n",
    "\n",
    "# Multiplication\n",
    "mul_result = a * b  # Output: [5, 8, 9, 8, 5]\n",
    "print(\"Multiplication:\", mul_result)\n",
    "\n",
    "# Division\n",
    "div_result = a / b  # Output: [0.2, 0.5, 1.0, 2.0, 5.0]\n",
    "print(\"Division:\", div_result)\n",
    "\n",
    "# Modulo\n",
    "mod_result = a % b  # Output: [1, 2, 0, 0, 0]\n",
    "print(\"Modulo:\", mod_result)\n",
    "\n",
    "# Exponentiation\n",
    "exp_result = a ** 2  # Output: [ 1, 4, 9, 16, 25]\n",
    "print(\"Exponentiation:\", exp_result)\n",
    "\n",
    "# Matrix multiplication (Dot product)\n",
    "mat_mul_result = np.dot(a, b)  # Output: 35 (1*5 + 2*4 + 3*3 + 4*2 + 5*1)\n",
    "print(\"Matrix multiplication (Dot product):\", mat_mul_result)\n",
    "\n",
    "# Trigonometric functions (example using sine)\n",
    "sin_result = np.sin(a)  # Sine of each element\n",
    "print(\"Sine of array:\", sin_result)\n",
    "\n",
    "# Converting degree values to radians\n",
    "degrees = np.array([0, 30, 45, 60, 90])\n",
    "radians = np.radians(degrees)  # Convert degrees to radians\n",
    "print(\"Radians:\", radians)\n",
    "\n",
    "# Logarithmic functions (example using natural log)\n",
    "log_result = np.log(a)  # Natural logarithm of each element\n",
    "print(\"Natural Logarithm:\", log_result)\n",
    "\n",
    "# Bitwise operations (example using AND)\n",
    "bitwise_and_result = a & 2  # Bitwise AND of each element with 2\n",
    "print(\"Bitwise AND with 2:\", bitwise_and_result)\n",
    "\n",
    "# Bitwise operations (example using OR)\n",
    "bitwise_or_result = a | 2  # Bitwise OR of each element with 2\n",
    "print(\"Bitwise OR with 2:\", bitwise_or_result)"
   ]
  },
  {
   "cell_type": "markdown",
   "id": "fc4ad64d-79d8-4db6-a466-c533d971b8a1",
   "metadata": {},
   "source": [
    "## 2. Comparison Operations\n",
    "- These operations compare elements in the arrays a and b, returning a boolean array."
   ]
  },
  {
   "cell_type": "code",
   "execution_count": 2,
   "id": "d4c71fd3-ebcc-4382-9a15-f80bb71403bc",
   "metadata": {},
   "outputs": [
    {
     "name": "stdout",
     "output_type": "stream",
     "text": [
      "[False False  True False False]\n",
      "[False False False  True  True]\n",
      "[ True  True False False False]\n",
      "[ True  True False  True  True]\n",
      "[False False  True  True  True]\n",
      "[ True  True  True False False]\n"
     ]
    }
   ],
   "source": [
    "import numpy as np\n",
    "\n",
    "# Create arrays\n",
    "a = np.array([1, 2, 3, 4, 5])\n",
    "b = np.array([5, 4, 3, 2, 1])\n",
    "\n",
    "# Equality comparison\n",
    "print(a == b)  # Output: [False False  True False False]\n",
    "\n",
    "# Greater than comparison\n",
    "print(a > b)   # Output: [False False False  True  True]\n",
    "\n",
    "# Less than comparison\n",
    "print(a < b)   # Output: [ True  True False False False]\n",
    "\n",
    "# Not equal comparison\n",
    "print(a != b)  # Output: [ True  True False  True  True]\n",
    "\n",
    "# Greater than or equal comparison\n",
    "print(a >= b)  # Output: [False False  True  True  True]\n",
    "\n",
    "# Less than or equal comparison\n",
    "print(a <= b)  # Output: [ True  True  True False False]"
   ]
  },
  {
   "cell_type": "markdown",
   "id": "f3df28cf-7b50-4ea9-a8a1-2bf07e00ea62",
   "metadata": {},
   "source": [
    "## 3. Aggregation Functions\n",
    "- These functions compute summary statistics over the array."
   ]
  },
  {
   "cell_type": "code",
   "execution_count": 4,
   "id": "07d44a8e-5d15-4642-ac40-ca645e873dc3",
   "metadata": {},
   "outputs": [
    {
     "name": "stdout",
     "output_type": "stream",
     "text": [
      "15\n",
      "3.0\n",
      "3.0\n",
      "1.4142135623730951\n",
      "2.0\n",
      "5\n",
      "1\n"
     ]
    }
   ],
   "source": [
    "import numpy as np\n",
    "\n",
    "# Create arrays\n",
    "a = np.array([1, 2, 3, 4, 5])\n",
    "b = np.array([5, 4, 3, 2, 1])\n",
    "\n",
    "# Sum\n",
    "print(np.sum(a))  # Output: 15\n",
    "\n",
    "# Mean\n",
    "print(np.mean(a))  # Output: 3.0\n",
    "\n",
    "# Median\n",
    "print(np.median(a))  # Output: 3.0\n",
    "\n",
    "# Standard deviation\n",
    "print(np.std(a))  # Output: 1.4142135623730951\n",
    "\n",
    "# Variance\n",
    "print(np.var(a))  # Output: 2.0\n",
    "\n",
    "# Maximum\n",
    "print(np.amax(a))  # Output: 5\n",
    "\n",
    "# Minimum\n",
    "print(np.amin(a))  # Output: 1"
   ]
  },
  {
   "cell_type": "markdown",
   "id": "2be20b99-f4b4-4d0e-81d7-b52721907d6b",
   "metadata": {},
   "source": [
    "## 4. Sorting Operations"
   ]
  },
  {
   "cell_type": "code",
   "execution_count": 5,
   "id": "481b174f-a800-4407-845d-86c5ea36bf32",
   "metadata": {},
   "outputs": [
    {
     "name": "stdout",
     "output_type": "stream",
     "text": [
      "Sorted Array (Ascending): [1 2 5 5 6 9]\n",
      "Reverse Sorted Array (Descending): [9 6 5 5 2 1]\n"
     ]
    }
   ],
   "source": [
    "import numpy as np\n",
    "\n",
    "# Create an array\n",
    "a = np.array([5, 2, 9, 1, 5, 6])\n",
    "\n",
    "# Sort the array (default is ascending order)\n",
    "sorted_a = np.sort(a)  \n",
    "print(\"Sorted Array (Ascending):\", sorted_a)\n",
    "\n",
    "# Reverse sort the array (sort in descending order)\n",
    "reverse_sorted_a = np.sort(a)[::-1]  \n",
    "print(\"Reverse Sorted Array (Descending):\", reverse_sorted_a)"
   ]
  },
  {
   "cell_type": "markdown",
   "id": "09dcdd09-6d80-4afe-9612-b9ff01065626",
   "metadata": {},
   "source": [
    "## 5. Transpose Operations"
   ]
  },
  {
   "cell_type": "code",
   "execution_count": 7,
   "id": "763e7a42-5d1f-4a35-95c0-16596ce0c18a",
   "metadata": {},
   "outputs": [
    {
     "name": "stdout",
     "output_type": "stream",
     "text": [
      "Original 1D Array: [1 2 3]\n",
      "Transposed 1D Array: [1 2 3]\n",
      "\n",
      "Original 2D Array:\n",
      " [[1 2 3]\n",
      " [4 5 6]\n",
      " [7 8 9]]\n",
      "Transposed 2D Array:\n",
      " [[1 4 7]\n",
      " [2 5 8]\n",
      " [3 6 9]]\n",
      "\n",
      "Original 3D Array Shape: (2, 3, 4)\n",
      "Transposed 3D Array Shape: (3, 2, 4)\n"
     ]
    }
   ],
   "source": [
    "import numpy as np\n",
    "\n",
    "# 1D Array Transpose\n",
    "a = np.array([1, 2, 3])\n",
    "print(\"Original 1D Array:\", a)\n",
    "print(\"Transposed 1D Array:\", a.T)  # Transpose has no effect on 1D array\n",
    "\n",
    "# 2D Array Transpose\n",
    "b = np.array([[1, 2, 3], [4, 5, 6], [7, 8, 9]])\n",
    "print(\"\\nOriginal 2D Array:\\n\", b)\n",
    "print(\"Transposed 2D Array:\\n\", b.T)\n",
    "\n",
    "# 3D Array Transpose\n",
    "c = np.random.rand(2, 3, 4)  # 3D array of shape (2, 3, 4)\n",
    "print(\"\\nOriginal 3D Array Shape:\", c.shape)\n",
    "print(\"Transposed 3D Array Shape:\", c.transpose(1, 0, 2).shape)  # Swapping axes"
   ]
  },
  {
   "cell_type": "markdown",
   "id": "0a77bacf-85bf-43e6-adc5-8b53eb1f4dfe",
   "metadata": {},
   "source": [
    "# How do you know the shape and size of an array?\n",
    "\n",
    "- ndarray.ndim will tell you the number of axes, or dimensions, of the array.\n",
    "\n",
    "- ndarray.size will tell you the total number of elements of the array. This is the product of the elements of the array’s shape.\n",
    "\n",
    "- ndarray.shape will display a tuple of integers that indicate the number of elements stored along each dimension of the array. If, for example, you have a 2-D array with 2 rows and 3 columns, the shape of your array is (2, 3)"
   ]
  },
  {
   "cell_type": "code",
   "execution_count": 8,
   "id": "e65ce2fa-02fc-4a4c-a5a1-88286fa50e7d",
   "metadata": {},
   "outputs": [
    {
     "name": "stdout",
     "output_type": "stream",
     "text": [
      "1D Array:\n",
      "Array: [1 2 3 4 5]\n",
      "Number of Dimensions (ndim): 1\n",
      "Shape: (5,)\n",
      "Size (Total number of elements): 5\n",
      "\n",
      "2D Array:\n",
      "Array:\n",
      " [[1 2 3]\n",
      " [4 5 6]\n",
      " [7 8 9]]\n",
      "Number of Dimensions (ndim): 2\n",
      "Shape: (3, 3)\n",
      "Size (Total number of elements): 9\n",
      "\n",
      "3D Array:\n",
      "Array:\n",
      " [[[1 2]\n",
      "  [3 4]]\n",
      "\n",
      " [[5 6]\n",
      "  [7 8]]]\n",
      "Number of Dimensions (ndim): 3\n",
      "Shape: (2, 2, 2)\n",
      "Size (Total number of elements): 8\n",
      "\n",
      "4D Array:\n",
      "Array:\n",
      " [[[[ 1  2]\n",
      "   [ 3  4]]\n",
      "\n",
      "  [[ 5  6]\n",
      "   [ 7  8]]]\n",
      "\n",
      "\n",
      " [[[ 9 10]\n",
      "   [11 12]]\n",
      "\n",
      "  [[13 14]\n",
      "   [15 16]]]]\n",
      "Number of Dimensions (ndim): 4\n",
      "Shape: (2, 2, 2, 2)\n",
      "Size (Total number of elements): 16\n"
     ]
    }
   ],
   "source": [
    "import numpy as np\n",
    "\n",
    "# 1D Array\n",
    "a = np.array([1, 2, 3, 4, 5])\n",
    "print(\"1D Array:\")\n",
    "print(\"Array:\", a)\n",
    "print(\"Number of Dimensions (ndim):\", a.ndim)\n",
    "print(\"Shape:\", a.shape)\n",
    "print(\"Size (Total number of elements):\", a.size)\n",
    "print()\n",
    "\n",
    "# 2D Array\n",
    "b = np.array([[1, 2, 3], [4, 5, 6], [7, 8, 9]])\n",
    "print(\"2D Array:\")\n",
    "print(\"Array:\\n\", b)\n",
    "print(\"Number of Dimensions (ndim):\", b.ndim)\n",
    "print(\"Shape:\", b.shape)  # Tuple (rows, columns)\n",
    "print(\"Size (Total number of elements):\", b.size)\n",
    "print()\n",
    "\n",
    "# 3D Array\n",
    "c = np.array([[[1, 2], [3, 4]], [[5, 6], [7, 8]]])\n",
    "print(\"3D Array:\")\n",
    "print(\"Array:\\n\", c)\n",
    "print(\"Number of Dimensions (ndim):\", c.ndim)\n",
    "print(\"Shape:\", c.shape)  # Tuple (depth, rows, columns)\n",
    "print(\"Size (Total number of elements):\", c.size)\n",
    "print()\n",
    "\n",
    "# 4D Array\n",
    "d = np.array([[[[1, 2], [3, 4]], [[5, 6], [7, 8]]], [[[9, 10], [11, 12]], [[13, 14], [15, 16]]]])\n",
    "print(\"4D Array:\")\n",
    "print(\"Array:\\n\", d)\n",
    "print(\"Number of Dimensions (ndim):\", d.ndim)\n",
    "print(\"Shape:\", d.shape)  # Tuple (batch, depth, rows, columns)\n",
    "print(\"Size (Total number of elements):\", d.size)"
   ]
  }
 ],
 "metadata": {
  "kernelspec": {
   "display_name": "Python 3 (ipykernel)",
   "language": "python",
   "name": "python3"
  },
  "language_info": {
   "codemirror_mode": {
    "name": "ipython",
    "version": 3
   },
   "file_extension": ".py",
   "mimetype": "text/x-python",
   "name": "python",
   "nbconvert_exporter": "python",
   "pygments_lexer": "ipython3",
   "version": "3.12.0"
  }
 },
 "nbformat": 4,
 "nbformat_minor": 5
}
