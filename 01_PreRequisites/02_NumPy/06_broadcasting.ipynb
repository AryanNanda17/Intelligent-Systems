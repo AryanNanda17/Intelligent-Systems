{
 "cells": [
  {
   "cell_type": "markdown",
   "id": "385d6f03-49ce-44e3-87ea-3700297382db",
   "metadata": {},
   "source": [
    "# Broadcasting"
   ]
  },
  {
   "cell_type": "markdown",
   "id": "7adad901-a145-4055-b771-3202e12303ce",
   "metadata": {},
   "source": [
    "- Broadcasting is a feature in the NumPy library in Python that allows for arithmetic operations between arrays of different shapes.\n",
    "- Broadcasting solves the problem of compatibility in shape between arrays of Afferg 00 lon uhing arithmetic operations.\n",
    "- The smaller array is broadcasted across the larger array so that they have compatible shapes.\n",
    "- Broadcasting provides a means of vectorizing array operations so that looping occurs in C instead of Python.\n",
    "\n",
    "<img src=\"./images/broadcasting.png\">"
   ]
  },
  {
   "cell_type": "code",
   "execution_count": 1,
   "id": "3e51ed01-7370-4f79-9423-cd753a59954e",
   "metadata": {},
   "outputs": [
    {
     "name": "stdout",
     "output_type": "stream",
     "text": [
      "The history saving thread hit an unexpected error (OperationalError('attempt to write a readonly database')).History will not be written to the database.\n",
      "Example 1 (Scalar addition):\n",
      "[[6 7]\n",
      " [8 9]]\n",
      "\n",
      "Example 2 (Array addition):\n",
      "[[2 2]\n",
      " [4 4]]\n",
      "\n",
      "Example 3 (Array multiplication):\n",
      "[[1 4]\n",
      " [3 8]]\n",
      "\n",
      "Example 4 (Broadcasting to larger shape):\n",
      "[[2 4]\n",
      " [4 6]\n",
      " [6 8]]\n",
      "\n",
      "Example 5 (Broadcasting smaller array to larger shape):\n",
      "[[2 3 4]\n",
      " [5 6 7]]\n"
     ]
    }
   ],
   "source": [
    "import numpy as np\n",
    "\n",
    "# Example 1: Adding a scalar to an array\n",
    "arr1 = np.array([[1, 2], [3, 4]])  # Shape (2, 2)\n",
    "scalar = 5\n",
    "result1 = arr1 + scalar\n",
    "\n",
    "# Example 2: Adding two arrays with compatible shapes\n",
    "arr2 = np.array([1, 0])            # Shape (2,)\n",
    "result2 = arr1 + arr2               # Broadcasting arr2 across arr1\n",
    "\n",
    "# Example 3: Multiplying a 2D array by a 1D array (with broadcasting)\n",
    "arr3 = np.array([1, 2])            # Shape (2,)\n",
    "result3 = arr1 * arr3               # Broadcasting arr3 across arr1\n",
    "\n",
    "# Example 4: Broadcasting to a larger array shape\n",
    "arr4 = np.array([1, 2])            # Shape (2,)\n",
    "arr5 = np.array([[1, 2], [3, 4], [5, 6]])  # Shape (3, 2)\n",
    "result4 = arr5 + arr4               # Broadcasting arr4 across arr5\n",
    "\n",
    "# Example 5: Broadcasting a smaller array to a larger shape\n",
    "arr6 = np.array([1])               # Shape (1,)\n",
    "arr7 = np.array([[1, 2, 3], [4, 5, 6]])  # Shape (2, 3)\n",
    "result5 = arr7 + arr6               # Broadcasting arr6 across arr7\n",
    "\n",
    "# Printing results\n",
    "print(\"Example 1 (Scalar addition):\")\n",
    "print(result1)\n",
    "\n",
    "print(\"\\nExample 2 (Array addition):\")\n",
    "print(result2)\n",
    "\n",
    "print(\"\\nExample 3 (Array multiplication):\")\n",
    "print(result3)\n",
    "\n",
    "print(\"\\nExample 4 (Broadcasting to larger shape):\")\n",
    "print(result4)\n",
    "\n",
    "print(\"\\nExample 5 (Broadcasting smaller array to larger shape):\")\n",
    "print(result5)"
   ]
  }
 ],
 "metadata": {
  "kernelspec": {
   "display_name": "Python 3 (ipykernel)",
   "language": "python",
   "name": "python3"
  },
  "language_info": {
   "codemirror_mode": {
    "name": "ipython",
    "version": 3
   },
   "file_extension": ".py",
   "mimetype": "text/x-python",
   "name": "python",
   "nbconvert_exporter": "python",
   "pygments_lexer": "ipython3",
   "version": "3.12.0"
  }
 },
 "nbformat": 4,
 "nbformat_minor": 5
}
