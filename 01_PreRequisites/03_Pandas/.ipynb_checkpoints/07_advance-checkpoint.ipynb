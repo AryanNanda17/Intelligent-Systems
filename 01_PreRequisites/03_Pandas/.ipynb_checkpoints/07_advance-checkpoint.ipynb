{
 "cells": [
  {
   "cell_type": "markdown",
   "id": "0dbdec25-d1e0-43f8-91f1-3112e280f4fb",
   "metadata": {},
   "source": [
    "# 1. Group-By\n",
    "The groupby function in Pandas is used to group data based on one or more columns. After grouping, you can apply aggregate functions (such as mean(), sum(), count(), etc.) to each group independently.\n",
    "\n",
    "-> Grouping by Column:\n",
    "Let's say you have a dataset of Pokémon, and you want to calculate the average Attack for each Type 1."
   ]
  },
  {
   "cell_type": "code",
   "execution_count": 3,
   "id": "0e33e49a-98c6-4931-8435-4848aa159ddd",
   "metadata": {},
   "outputs": [],
   "source": [
    "import pandas as pd\n",
    "df = pd.read_csv('pokemon_data.csv')"
   ]
  },
  {
   "cell_type": "code",
   "execution_count": 4,
   "id": "e0a2b1f7-07d3-42b1-b485-2f2f911f48c4",
   "metadata": {},
   "outputs": [
    {
     "data": {
      "text/plain": [
       "Type 1\n",
       "Bug          70.971014\n",
       "Dark         88.387097\n",
       "Dragon      112.125000\n",
       "Electric     69.090909\n",
       "Fairy        61.529412\n",
       "Fighting     96.777778\n",
       "Fire         84.769231\n",
       "Flying       78.750000\n",
       "Ghost        73.781250\n",
       "Grass        73.214286\n",
       "Ground       95.750000\n",
       "Ice          72.750000\n",
       "Normal       73.469388\n",
       "Poison       74.678571\n",
       "Psychic      71.456140\n",
       "Rock         92.863636\n",
       "Steel        92.703704\n",
       "Water        74.151786\n",
       "Name: Attack, dtype: float64"
      ]
     },
     "execution_count": 4,
     "metadata": {},
     "output_type": "execute_result"
    }
   ],
   "source": [
    "grouped = df.groupby('Type 1')['Attack'].mean()"
   ]
  },
  {
   "cell_type": "markdown",
   "id": "1502054c-4944-4674-b9de-2ee6ce8a3ea5",
   "metadata": {},
   "source": [
    "Here, the groupby method groups the data by the Type 1 column, and then the mean() function is applied to calculate the average attack for each type."
   ]
  },
  {
   "cell_type": "markdown",
   "id": "d973cb6b-d054-4142-955f-884b9e6ac117",
   "metadata": {},
   "source": [
    "# Merging and Joining DataFrames"
   ]
  },
  {
   "cell_type": "markdown",
   "id": "a9834d03-18e8-47ca-b9e2-f2faa51c719c",
   "metadata": {},
   "source": [
    "Merging and joining are operations used to combine two or more DataFrames based on a common column or index. This is similar to SQL JOIN operations.\n",
    "\n",
    "-> Merge Example:\n",
    "\n",
    "You have two DataFrames: one with Pokémon names and their types, and another with Pokémon names and their stats. You can merge them based on the Name column."
   ]
  },
  {
   "cell_type": "code",
   "execution_count": 5,
   "id": "c030c026-05f2-4c12-9088-c3764560b8eb",
   "metadata": {},
   "outputs": [
    {
     "name": "stdout",
     "output_type": "stream",
     "text": [
      "         Name Type 1  Attack  Defense\n",
      "0   Bulbasaur  Grass      49       49\n",
      "1     Ivysaur  Grass      62       63\n",
      "2    Venusaur  Grass      82       83\n",
      "3  Charmander   Fire      52       43\n",
      "4  Charmeleon   Fire      64       58\n",
      "5   Charizard   Fire      84       78\n"
     ]
    }
   ],
   "source": [
    "# First DataFrame: Pokémon Name and Type\n",
    "df1 = pd.DataFrame({\n",
    "    'Name': ['Bulbasaur', 'Ivysaur', 'Venusaur', 'Charmander', 'Charmeleon', 'Charizard'],\n",
    "    'Type 1': ['Grass', 'Grass', 'Grass', 'Fire', 'Fire', 'Fire']\n",
    "})\n",
    "\n",
    "# Second DataFrame: Pokémon Name and Stats\n",
    "df2 = pd.DataFrame({\n",
    "    'Name': ['Bulbasaur', 'Ivysaur', 'Venusaur', 'Charmander', 'Charmeleon', 'Charizard'],\n",
    "    'Attack': [49, 62, 82, 52, 64, 84],\n",
    "    'Defense': [49, 63, 83, 43, 58, 78]\n",
    "})\n",
    "\n",
    "# Merge the DataFrames based on 'Name'\n",
    "merged_df = pd.merge(df1, df2, on='Name')\n",
    "\n",
    "print(merged_df)"
   ]
  },
  {
   "cell_type": "markdown",
   "id": "ff411fc7-af3f-49e2-817f-b83e60fefc57",
   "metadata": {},
   "source": [
    "Merge Types:\n",
    "- Inner Join (default): Includes only the rows with common values in the merging column(s).\n",
    "- Left Join: Includes all rows from the left DataFrame, even if there's no match in the right DataFrame.\n",
    "- Right Join: Includes all rows from the right DataFrame, even if there's no match in the left DataFrame.\n",
    "- Outer Join: Includes all rows from both DataFrames, filling in NaN for non-matching rows."
   ]
  },
  {
   "cell_type": "markdown",
   "id": "bba56b71-4315-4115-82f2-aa2afaca45ea",
   "metadata": {},
   "source": [
    "# Concatenating DataFrames\n",
    "\n",
    "Concatenating is used to combine DataFrames either vertically (row-wise) or horizontally (column-wise). This is useful when you have data in separate DataFrames that you want to combine.\n",
    "\n",
    "-> Example: Concatenating Vertically (Row-wise)\n",
    "\n",
    "Suppose you have two DataFrames with the same columns but different rows, and you want to stack them:"
   ]
  },
  {
   "cell_type": "code",
   "execution_count": 6,
   "id": "6ce6b4cf-9b97-42cc-9ee8-3c077cecfa16",
   "metadata": {},
   "outputs": [
    {
     "name": "stdout",
     "output_type": "stream",
     "text": [
      "         Name Type 1  Attack  Defense\n",
      "0   Bulbasaur  Grass      49       49\n",
      "1     Ivysaur  Grass      62       63\n",
      "2  Charmander   Fire      52       43\n",
      "3  Charmeleon   Fire      64       58\n"
     ]
    }
   ],
   "source": [
    "# DataFrame 1\n",
    "df1 = pd.DataFrame({\n",
    "    'Name': ['Bulbasaur', 'Ivysaur'],\n",
    "    'Type 1': ['Grass', 'Grass'],\n",
    "    'Attack': [49, 62],\n",
    "    'Defense': [49, 63]\n",
    "})\n",
    "\n",
    "# DataFrame 2\n",
    "df2 = pd.DataFrame({\n",
    "    'Name': ['Charmander', 'Charmeleon'],\n",
    "    'Type 1': ['Fire', 'Fire'],\n",
    "    'Attack': [52, 64],\n",
    "    'Defense': [43, 58]\n",
    "})\n",
    "\n",
    "# Concatenate vertically\n",
    "concatenated_df = pd.concat([df1, df2], ignore_index=True)\n",
    "\n",
    "print(concatenated_df)"
   ]
  },
  {
   "cell_type": "markdown",
   "id": "03c5975d-d298-4676-aeb0-1abe97049e83",
   "metadata": {},
   "source": [
    "### Concatenating Horizontally (Column-wise)"
   ]
  },
  {
   "cell_type": "code",
   "execution_count": 7,
   "id": "469f1cb9-b633-4a44-801e-09305a944dbf",
   "metadata": {},
   "outputs": [
    {
     "name": "stdout",
     "output_type": "stream",
     "text": [
      "        Name Type 1  Attack  Defense\n",
      "0  Bulbasaur  Grass      49       49\n",
      "1    Ivysaur  Grass      62       63\n",
      "2   Venusaur  Grass      82       83\n"
     ]
    }
   ],
   "source": [
    "# DataFrame 1\n",
    "df1 = pd.DataFrame({\n",
    "    'Name': ['Bulbasaur', 'Ivysaur', 'Venusaur'],\n",
    "    'Type 1': ['Grass', 'Grass', 'Grass']\n",
    "})\n",
    "\n",
    "# DataFrame 2\n",
    "df2 = pd.DataFrame({\n",
    "    'Attack': [49, 62, 82],\n",
    "    'Defense': [49, 63, 83]\n",
    "})\n",
    "\n",
    "# Concatenate horizontally\n",
    "concatenated_df = pd.concat([df1, df2], axis=1)\n",
    "\n",
    "print(concatenated_df)"
   ]
  }
 ],
 "metadata": {
  "kernelspec": {
   "display_name": "Python 3 (ipykernel)",
   "language": "python",
   "name": "python3"
  },
  "language_info": {
   "codemirror_mode": {
    "name": "ipython",
    "version": 3
   },
   "file_extension": ".py",
   "mimetype": "text/x-python",
   "name": "python",
   "nbconvert_exporter": "python",
   "pygments_lexer": "ipython3",
   "version": "3.12.0"
  }
 },
 "nbformat": 4,
 "nbformat_minor": 5
}
