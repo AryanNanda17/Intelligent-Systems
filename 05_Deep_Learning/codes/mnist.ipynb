{
 "cells": [
  {
   "cell_type": "markdown",
   "metadata": {},
   "source": [
    "## Summary of what we will be building:-\n",
    "<div align=\"center\">\n",
    "<img src=\"./images/1_summary.png\" width=500px>\n",
    "</div>"
   ]
  },
  {
   "cell_type": "code",
   "execution_count": 1,
   "metadata": {},
   "outputs": [
    {
     "name": "stdout",
     "output_type": "stream",
     "text": [
      "Requirement already satisfied: numpy in /Users/Aryan/mambaforge/envs/model/lib/python3.12/site-packages (1.26.4)\n",
      "\n",
      "\u001b[1m[\u001b[0m\u001b[34;49mnotice\u001b[0m\u001b[1;39;49m]\u001b[0m\u001b[39;49m A new release of pip is available: \u001b[0m\u001b[31;49m24.1.1\u001b[0m\u001b[39;49m -> \u001b[0m\u001b[32;49m24.3.1\u001b[0m\n",
      "\u001b[1m[\u001b[0m\u001b[34;49mnotice\u001b[0m\u001b[1;39;49m]\u001b[0m\u001b[39;49m To update, run: \u001b[0m\u001b[32;49mpip install --upgrade pip\u001b[0m\n",
      "Requirement already satisfied: matplotlib in /Users/Aryan/mambaforge/envs/model/lib/python3.12/site-packages (3.9.0)\n",
      "Requirement already satisfied: contourpy>=1.0.1 in /Users/Aryan/mambaforge/envs/model/lib/python3.12/site-packages (from matplotlib) (1.2.1)\n",
      "Requirement already satisfied: cycler>=0.10 in /Users/Aryan/mambaforge/envs/model/lib/python3.12/site-packages (from matplotlib) (0.12.1)\n",
      "Requirement already satisfied: fonttools>=4.22.0 in /Users/Aryan/mambaforge/envs/model/lib/python3.12/site-packages (from matplotlib) (4.53.0)\n",
      "Requirement already satisfied: kiwisolver>=1.3.1 in /Users/Aryan/mambaforge/envs/model/lib/python3.12/site-packages (from matplotlib) (1.4.5)\n",
      "Requirement already satisfied: numpy>=1.23 in /Users/Aryan/mambaforge/envs/model/lib/python3.12/site-packages (from matplotlib) (1.26.4)\n",
      "Requirement already satisfied: packaging>=20.0 in /Users/Aryan/mambaforge/envs/model/lib/python3.12/site-packages (from matplotlib) (24.1)\n",
      "Requirement already satisfied: pillow>=8 in /Users/Aryan/mambaforge/envs/model/lib/python3.12/site-packages (from matplotlib) (10.3.0)\n",
      "Requirement already satisfied: pyparsing>=2.3.1 in /Users/Aryan/mambaforge/envs/model/lib/python3.12/site-packages (from matplotlib) (3.1.2)\n",
      "Requirement already satisfied: python-dateutil>=2.7 in /Users/Aryan/mambaforge/envs/model/lib/python3.12/site-packages (from matplotlib) (2.9.0.post0)\n",
      "Requirement already satisfied: six>=1.5 in /Users/Aryan/mambaforge/envs/model/lib/python3.12/site-packages (from python-dateutil>=2.7->matplotlib) (1.16.0)\n",
      "\n",
      "\u001b[1m[\u001b[0m\u001b[34;49mnotice\u001b[0m\u001b[1;39;49m]\u001b[0m\u001b[39;49m A new release of pip is available: \u001b[0m\u001b[31;49m24.1.1\u001b[0m\u001b[39;49m -> \u001b[0m\u001b[32;49m24.3.1\u001b[0m\n",
      "\u001b[1m[\u001b[0m\u001b[34;49mnotice\u001b[0m\u001b[1;39;49m]\u001b[0m\u001b[39;49m To update, run: \u001b[0m\u001b[32;49mpip install --upgrade pip\u001b[0m\n",
      "Requirement already satisfied: scikit-learn in /Users/Aryan/mambaforge/envs/model/lib/python3.12/site-packages (1.5.0)\n",
      "Requirement already satisfied: numpy>=1.19.5 in /Users/Aryan/mambaforge/envs/model/lib/python3.12/site-packages (from scikit-learn) (1.26.4)\n",
      "Requirement already satisfied: scipy>=1.6.0 in /Users/Aryan/mambaforge/envs/model/lib/python3.12/site-packages (from scikit-learn) (1.13.1)\n",
      "Requirement already satisfied: joblib>=1.2.0 in /Users/Aryan/mambaforge/envs/model/lib/python3.12/site-packages (from scikit-learn) (1.4.2)\n",
      "Requirement already satisfied: threadpoolctl>=3.1.0 in /Users/Aryan/mambaforge/envs/model/lib/python3.12/site-packages (from scikit-learn) (3.5.0)\n",
      "\n",
      "\u001b[1m[\u001b[0m\u001b[34;49mnotice\u001b[0m\u001b[1;39;49m]\u001b[0m\u001b[39;49m A new release of pip is available: \u001b[0m\u001b[31;49m24.1.1\u001b[0m\u001b[39;49m -> \u001b[0m\u001b[32;49m24.3.1\u001b[0m\n",
      "\u001b[1m[\u001b[0m\u001b[34;49mnotice\u001b[0m\u001b[1;39;49m]\u001b[0m\u001b[39;49m To update, run: \u001b[0m\u001b[32;49mpip install --upgrade pip\u001b[0m\n"
     ]
    }
   ],
   "source": [
    "# Install the required libraries\n",
    "!pip3 install numpy           # For Scientific Computation\n",
    "!pip3 install matplotlib      # For plotting\n",
    "!pip3 install scikit-learn    # For importing the dataset and plotting metrics"
   ]
  },
  {
   "cell_type": "code",
   "execution_count": 2,
   "metadata": {
    "id": "Cp8UoOSc--4r"
   },
   "outputs": [],
   "source": [
    "# Importing libraries\n",
    "import numpy as np \n",
    "import matplotlib\n",
    "import matplotlib.pyplot as plt\n",
    "from sklearn.metrics import confusion_matrix, ConfusionMatrixDisplay"
   ]
  },
  {
   "cell_type": "code",
   "execution_count": 3,
   "metadata": {
    "colab": {
     "base_uri": "https://localhost:8080/"
    },
    "id": "i0OYr--39jgn",
    "outputId": "bcad2d89-2f58-4543-935d-cb97a32fd5d9"
   },
   "outputs": [],
   "source": [
    "# We will fetch the data from sklearn.datasets\n",
    "from sklearn.datasets import fetch_openml\n",
    "mnist = fetch_openml('mnist_784')"
   ]
  },
  {
   "cell_type": "code",
   "execution_count": 4,
   "metadata": {
    "id": "O2O4XVbA-Ksi"
   },
   "outputs": [],
   "source": [
    "# Retrieving features and labels\n",
    "X = mnist['data']\n",
    "Y = mnist['target']"
   ]
  },
  {
   "cell_type": "code",
   "execution_count": 5,
   "metadata": {
    "id": "ZrBOddZf-dp8"
   },
   "outputs": [],
   "source": [
    "# Converting into NumPy array with integer datatype\n",
    "X = np.array(X , dtype = 'int32')\n",
    "Y = np.array(Y , dtype = 'int32')"
   ]
  },
  {
   "cell_type": "code",
   "execution_count": 6,
   "metadata": {},
   "outputs": [
    {
     "name": "stdout",
     "output_type": "stream",
     "text": [
      "Shape of X is (70000, 784)\n",
      "Shape of Y: (70000,)\n"
     ]
    }
   ],
   "source": [
    "print(f'Shape of X is {X.shape}')\n",
    "print(f'Shape of Y: {Y.shape}')"
   ]
  },
  {
   "cell_type": "code",
   "execution_count": 7,
   "metadata": {
    "colab": {
     "base_uri": "https://localhost:8080/"
    },
    "id": "RrLpw66v_OYx",
    "outputId": "40d908a3-b3d6-4cd4-be1e-841387b84b0a"
   },
   "outputs": [],
   "source": [
    "# Reshaping\n",
    "X = X.T    # We generally consider Number of examples = Number of columns\n",
    "Y = Y.reshape(1,70000) "
   ]
  },
  {
   "cell_type": "code",
   "execution_count": 8,
   "metadata": {},
   "outputs": [
    {
     "name": "stdout",
     "output_type": "stream",
     "text": [
      "Shape of X is (784, 70000)\n",
      "Shape of Y: (1, 70000)\n"
     ]
    }
   ],
   "source": [
    "print(f'Shape of X is {X.shape}')\n",
    "print(f'Shape of Y: {Y.shape}')"
   ]
  },
  {
   "cell_type": "code",
   "execution_count": 9,
   "metadata": {
    "colab": {
     "base_uri": "https://localhost:8080/"
    },
    "id": "cNzkjXXP_bs1",
    "outputId": "c2c19edb-9d87-4efb-8f70-872a4d66cfc3"
   },
   "outputs": [
    {
     "name": "stdout",
     "output_type": "stream",
     "text": [
      "(28, 28)\n"
     ]
    }
   ],
   "source": [
    "# Let's plot the training example at 10th column \n",
    "Lets_plot = X[:,10]\n",
    "Lets_plot_image = Lets_plot.reshape(28,28)\n",
    "print(Lets_plot_image.shape)"
   ]
  },
  {
   "cell_type": "code",
   "execution_count": 10,
   "metadata": {
    "colab": {
     "base_uri": "https://localhost:8080/",
     "height": 448
    },
    "id": "vztcjzEWEHl8",
    "outputId": "c10628ea-79ab-4950-f6a2-711fce4df2a9"
   },
   "outputs": [
    {
     "data": {
      "text/plain": [
       "<matplotlib.image.AxesImage at 0x14d28ab10>"
      ]
     },
     "execution_count": 10,
     "metadata": {},
     "output_type": "execute_result"
    },
    {
     "data": {
      "image/png": "[encoded data removed]",
      "text/plain": [
       "<Figure size 640x480 with 1 Axes>"
      ]
     },
     "metadata": {},
     "output_type": "display_data"
    }
   ],
   "source": [
    "plt.imshow(Lets_plot_image, cmap = matplotlib.cm.binary)"
   ]
  },
  {
   "cell_type": "code",
   "execution_count": 11,
   "metadata": {
    "colab": {
     "base_uri": "https://localhost:8080/"
    },
    "id": "zlheGs0_Hygg",
    "outputId": "865776e5-5685-42d5-eaf4-15c01f33bbf0"
   },
   "outputs": [
    {
     "data": {
      "text/plain": [
       "3"
      ]
     },
     "execution_count": 11,
     "metadata": {},
     "output_type": "execute_result"
    }
   ],
   "source": [
    "# Label at 10th column should also be 3\n",
    "Y[0,10]"
   ]
  },
  {
   "cell_type": "code",
   "execution_count": 12,
   "metadata": {
    "colab": {
     "base_uri": "https://localhost:8080/"
    },
    "id": "5V_01X5BP180",
    "outputId": "1e6ba0aa-4f53-4932-cd52-8701b0c251f5"
   },
   "outputs": [],
   "source": [
    "# Let's divide the 70k images dataset into 60k training examples and 10k testing examples\n",
    "X_train = X[:,:60000]\n",
    "X_test  = X[:,60000:]\n",
    "Y_train = Y[:,:60000]\n",
    "Y_test  = Y[:,60000:]"
   ]
  },
  {
   "cell_type": "code",
   "execution_count": 13,
   "metadata": {},
   "outputs": [
    {
     "name": "stdout",
     "output_type": "stream",
     "text": [
      "Shape of X_train is (784, 60000)\n",
      "Shape of Y_train: (1, 60000)\n",
      "Shape of X_test is (784, 10000)\n",
      "Shape of Y_test: (1, 10000)\n"
     ]
    }
   ],
   "source": [
    "print(f'Shape of X_train is {X_train.shape}')\n",
    "print(f'Shape of Y_train: {Y_train.shape}')\n",
    "print(f'Shape of X_test is {X_test.shape}')\n",
    "print(f'Shape of Y_test: {Y_test.shape}')"
   ]
  },
  {
   "cell_type": "code",
   "execution_count": 14,
   "metadata": {},
   "outputs": [],
   "source": [
    "# Normalizing data\n",
    "X_train = X_train / 255\n",
    "X_test = X_test / 255"
   ]
  },
  {
   "cell_type": "code",
   "execution_count": 15,
   "metadata": {
    "id": "kVt7VGS8A3-P"
   },
   "outputs": [],
   "source": [
    "def initialize_parameters():\n",
    "    \"\"\"\n",
    "    Initializes the parameters for a simple neural network with one hidden layer.\n",
    "    The network structure:\n",
    "    - Input layer: 784 units (e.g., for a flattened 28x28 image)\n",
    "    - Hidden layer: 16 units\n",
    "    - Output layer: 10 units (e.g., for 10 classes)\n",
    "    Returns\n",
    "    -------\n",
    "    W1 : numpy.ndarray\n",
    "        Weight matrix of shape (16, 784) for the connections between the input layer and hidden layer.\n",
    "    b1 : numpy.ndarray\n",
    "        Bias vector of shape (16, 1) for the hidden layer.\n",
    "    W2 : numpy.ndarray\n",
    "        Weight matrix of shape (10, 16) for the connections between the hidden layer and output layer.\n",
    "    b2 : numpy.ndarray\n",
    "        Bias vector of shape (10, 1) for the output layer.\n",
    "\n",
    "    Notes\n",
    "    -----\n",
    "    - Weights are initialized randomly with small values multiplied by 0.01 for better convergence.\n",
    "    - Biases are initialized to zeros.\n",
    "    \"\"\"\n",
    "    W1 = np.random.randn(16, 784) * 0.01\n",
    "    W2 = np.random.randn(10, 16) * 0.01\n",
    "    b1 = np.zeros((16, 1))\n",
    "    b2 = np.zeros((10, 1))\n",
    "    return W1, b1, W2, b2"
   ]
  },
  {
   "cell_type": "code",
   "execution_count": 16,
   "metadata": {
    "id": "J--6Cm8NA363"
   },
   "outputs": [],
   "source": [
    "def ReLU(Z):\n",
    "    \"\"\"\n",
    "    Applies the ReLU (Rectified Linear Unit) activation function.\n",
    "\n",
    "    ReLU function is defined as: ReLU(x) = max(0, x)\n",
    "\n",
    "    Parameters\n",
    "    ----------\n",
    "    Z : numpy.ndarray\n",
    "        Input array, can be of any shape.\n",
    "\n",
    "    Returns\n",
    "    -------\n",
    "    numpy.ndarray\n",
    "        Output array of the same shape as `Z`, where all negative values are replaced with 0.\n",
    "    \"\"\"\n",
    "    return np.maximum(Z, 0)"
   ]
  },
  {
   "cell_type": "code",
   "execution_count": 17,
   "metadata": {},
   "outputs": [],
   "source": [
    "def SoftMax(Z2):\n",
    "    \"\"\"\n",
    "    Applies the SoftMax activation function.\n",
    "\n",
    "    SoftMax function is defined as:\n",
    "    SoftMax(x) = exp(x) / sum(exp(x)) for each element x.\n",
    "\n",
    "    Parameters\n",
    "    ----------\n",
    "    Z2 : numpy.ndarray\n",
    "        Input array, typically the output of the final layer in a neural network.\n",
    "\n",
    "    Returns\n",
    "    -------\n",
    "    numpy.ndarray\n",
    "        Output array of the same shape as `Z2`, where values are normalized to represent probabilities.\n",
    "    \"\"\"\n",
    "    A = np.exp(Z2) / np.sum(np.exp(Z2), axis=0, keepdims=True)\n",
    "    return A"
   ]
  },
  {
   "cell_type": "code",
   "execution_count": 18,
   "metadata": {},
   "outputs": [],
   "source": [
    "def forward_propagation(W1, b1, W2, b2, X):\n",
    "    \"\"\"\n",
    "    Performs forward propagation through a simple neural network with one hidden layer.\n",
    "\n",
    "    The network computes:\n",
    "    1. Z1 = W1 * X + b1\n",
    "    2. A1 = ReLU(Z1)\n",
    "    3. Z2 = W2 * A1 + b2\n",
    "    4. A2 = SoftMax(Z2)\n",
    "\n",
    "    Parameters\n",
    "    ----------\n",
    "    W1 : numpy.ndarray\n",
    "        Weight matrix for the input layer to hidden layer, shape (hidden_units, input_features).\n",
    "    b1 : numpy.ndarray\n",
    "        Bias vector for the hidden layer, shape (hidden_units, 1).\n",
    "    W2 : numpy.ndarray\n",
    "        Weight matrix for the hidden layer to output layer, shape (output_units, hidden_units).\n",
    "    b2 : numpy.ndarray\n",
    "        Bias vector for the output layer, shape (output_units, 1).\n",
    "    X : numpy.ndarray\n",
    "        Input data matrix, shape (input_features, number_of_examples).\n",
    "\n",
    "    Returns\n",
    "    -------\n",
    "    Z1 : numpy.ndarray\n",
    "        Linear transformation of the input for the hidden layer, shape (hidden_units, number_of_examples).\n",
    "    A1 : numpy.ndarray\n",
    "        Activation output from the hidden layer (ReLU applied), shape (hidden_units, number_of_examples).\n",
    "    Z2 : numpy.ndarray\n",
    "        Linear transformation for the output layer, shape (output_units, number_of_examples).\n",
    "    A2 : numpy.ndarray\n",
    "        Activation output from the output layer (SoftMax applied), shape (output_units, number_of_examples).\n",
    "    \"\"\"\n",
    "    Z1 = np.dot(W1, X) + b1\n",
    "    A1 = ReLU(Z1)\n",
    "    Z2 = np.dot(W2, A1) + b2\n",
    "    A2 = SoftMax(Z2)\n",
    "    return Z1, A1, Z2, A2"
   ]
  },
  {
   "cell_type": "code",
   "execution_count": 19,
   "metadata": {
    "id": "xLEX4RIKA34B"
   },
   "outputs": [],
   "source": [
    "def compute_cost(A2, Y):\n",
    "    \"\"\"\n",
    "    Computes the cost using cross-entropy loss.\n",
    "\n",
    "    Parameters\n",
    "    ----------\n",
    "    A2 : numpy.ndarray\n",
    "        Predicted probabilities of shape (number_of_classes, number_of_samples).\n",
    "    Y : numpy.ndarray\n",
    "        One-hot encoded true labels of shape (number_of_classes, number_of_samples).\n",
    "\n",
    "    Returns\n",
    "    -------\n",
    "    float\n",
    "        The computed cost (scalar value).\n",
    "    \"\"\"\n",
    "    m = Y.size\n",
    "    cost = -1/m * np.sum(Y * np.log(A2))\n",
    "    return cost"
   ]
  },
  {
   "cell_type": "code",
   "execution_count": 20,
   "metadata": {
    "id": "RE7tZU_NA307"
   },
   "outputs": [],
   "source": [
    "def one_hot(Y):\n",
    "    \"\"\"\n",
    "    Converts an array of class labels into a one-hot encoded matrix.\n",
    "\n",
    "    Parameters\n",
    "    ----------\n",
    "    Y : numpy.ndarray\n",
    "        Array of class labels of shape (1,number_of_samples).\n",
    "\n",
    "    Returns\n",
    "    -------\n",
    "    numpy.ndarray\n",
    "        One-hot encoded matrix of shape (number_of_classes, number_of_samples).\n",
    "    \"\"\"\n",
    "    encoded_array = np.zeros((Y.size, Y.max() + 1))\n",
    "    encoded_array[np.arange(Y.size), Y] = 1\n",
    "    encoded_array = encoded_array.T\n",
    "    return encoded_array"
   ]
  },
  {
   "cell_type": "code",
   "execution_count": 21,
   "metadata": {},
   "outputs": [],
   "source": [
    "def relu_derivative(Z):\n",
    "    \"\"\"\n",
    "    Computes the derivative of the ReLU activation function.\n",
    "\n",
    "    Parameters\n",
    "    ----------\n",
    "    Z : numpy.ndarray\n",
    "        Input array of any shape.\n",
    "\n",
    "    Returns\n",
    "    -------\n",
    "    numpy.ndarray\n",
    "        Array with the same shape as Z, containing 1 for positive values and 0 otherwise.\n",
    "    \"\"\"\n",
    "    return Z >= 0"
   ]
  },
  {
   "cell_type": "code",
   "execution_count": 22,
   "metadata": {},
   "outputs": [],
   "source": [
    "def backward_propagation(Z1, A1, Z2, A2, W2, X, Y):\n",
    "    \"\"\"\n",
    "    Computes the gradients for backpropagation in a neural network.\n",
    "\n",
    "    Parameters\n",
    "    ----------\n",
    "    Z1 : numpy.ndarray\n",
    "        Linear output of the hidden layer (before activation).\n",
    "    A1 : numpy.ndarray\n",
    "        Activation output of the hidden layer.\n",
    "    Z2 : numpy.ndarray\n",
    "        Linear output of the output layer (before activation).\n",
    "    A2 : numpy.ndarray\n",
    "        Activation output of the output layer (predicted probabilities).\n",
    "    W2 : numpy.ndarray\n",
    "        Weights of the output layer.\n",
    "    X : numpy.ndarray\n",
    "        Input data of shape (number_of_features, number_of_samples).\n",
    "    Y : numpy.ndarray\n",
    "        Array of true labels of shape (number_of_samples,).\n",
    "\n",
    "    Returns\n",
    "    -------\n",
    "    dW1 : numpy.ndarray\n",
    "        Gradient of the cost with respect to W1.\n",
    "    db1 : numpy.ndarray\n",
    "        Gradient of the cost with respect to b1.\n",
    "    dW2 : numpy.ndarray\n",
    "        Gradient of the cost with respect to W2.\n",
    "    db2 : numpy.ndarray\n",
    "        Gradient of the cost with respect to b2.\n",
    "    \"\"\"\n",
    "    m = Y.size\n",
    "    one_hot_Y = one_hot(Y)\n",
    "    dZ2 = A2 - one_hot_Y\n",
    "    dW2 = 1/m * np.dot(dZ2, A1.T)\n",
    "    db2 = 1/m * np.sum(dZ2, axis=1, keepdims=True)\n",
    "    dZ1 = np.dot(W2.T, dZ2) * relu_derivative(Z1)\n",
    "    dW1 = 1/m * np.dot(dZ1, X.T)\n",
    "    db1 = 1/m * np.sum(dZ1, axis=1, keepdims=True)\n",
    "    return dW1, db1, dW2, db2"
   ]
  },
  {
   "cell_type": "code",
   "execution_count": 23,
   "metadata": {},
   "outputs": [],
   "source": [
    "def update_parameters(W1, b1, W2, b2, dW1, db1, dW2, db2, Learning_rate):\n",
    "    \"\"\"\n",
    "    Updates the parameters using gradient descent.\n",
    "\n",
    "    Parameters\n",
    "    ----------\n",
    "    W1, b1, W2, b2 : numpy.ndarray\n",
    "        Current weights and biases.\n",
    "    dW1, db1, dW2, db2 : numpy.ndarray\n",
    "        Gradients of weights and biases.\n",
    "    Learning_rate : float\n",
    "        The learning rate for gradient descent.\n",
    "\n",
    "    Returns\n",
    "    -------\n",
    "    W1, b1, W2, b2 : numpy.ndarray\n",
    "        Updated weights and biases.\n",
    "    \"\"\"\n",
    "    W1 = W1 - Learning_rate * dW1\n",
    "    W2 = W2 - Learning_rate * dW2\n",
    "    b1 = b1 - Learning_rate * db1\n",
    "    b2 = b2 - Learning_rate * db2\n",
    "    return W1, b1, W2, b2"
   ]
  },
  {
   "cell_type": "code",
   "execution_count": 24,
   "metadata": {},
   "outputs": [],
   "source": [
    "def get_predictions(A2):\n",
    "    \"\"\"\n",
    "    Predicts the class labels based on the output probabilities.\n",
    "\n",
    "    Parameters\n",
    "    ----------\n",
    "    A2 : numpy.ndarray\n",
    "        Output probabilities of shape (number_of_classes, number_of_samples).\n",
    "\n",
    "    Returns\n",
    "    -------\n",
    "    numpy.ndarray\n",
    "        Predicted class labels of shape (number_of_samples,).\n",
    "    \"\"\"\n",
    "    return np.argmax(A2, 0)"
   ]
  },
  {
   "cell_type": "code",
   "execution_count": 25,
   "metadata": {},
   "outputs": [],
   "source": [
    "def get_accuracy(predictions, Y):\n",
    "    \"\"\"\n",
    "    Computes the accuracy of the predictions.\n",
    "\n",
    "    Parameters\n",
    "    ----------\n",
    "    predictions : numpy.ndarray\n",
    "        Predicted class labels of shape (number_of_samples,).\n",
    "    Y : numpy.ndarray\n",
    "        True class labels of shape (number_of_samples,).\n",
    "\n",
    "    Returns\n",
    "    -------\n",
    "    float\n",
    "        The accuracy as a value between 0 and 1.\n",
    "    \"\"\"\n",
    "    return np.sum(predictions == Y) / Y.size"
   ]
  },
  {
   "cell_type": "code",
   "execution_count": 26,
   "metadata": {},
   "outputs": [],
   "source": [
    "def Gradient_Descent(X, Y, No_Of_Iterations, Learning_Rate):\n",
    "    \"\"\"\n",
    "    Implements the gradient descent algorithm to train the neural network and tracks cost at each iteration.\n",
    "\n",
    "    Parameters\n",
    "    ----------\n",
    "    X : numpy.ndarray\n",
    "        Input data of shape (number_of_features, number_of_samples).\n",
    "    Y : numpy.ndarray\n",
    "        True class labels of shape (number_of_samples,).\n",
    "    No_Of_Iterations : int\n",
    "        Number of iterations for gradient descent.\n",
    "    Learning_Rate : float\n",
    "        The learning rate for gradient descent.\n",
    "\n",
    "    Returns\n",
    "    -------\n",
    "    W1, b1, W2, b2 : numpy.ndarray\n",
    "        Trained weights and biases.\n",
    "    costs : list\n",
    "        List of costs at each iteration.\n",
    "    \"\"\"\n",
    "    W1, b1, W2, b2 = initialize_parameters()\n",
    "    costs = []  # List to store costs at each iteration\n",
    "\n",
    "    for i in range(0, No_Of_Iterations):\n",
    "        Z1, A1, Z2, A2 = forward_propagation(W1, b1, W2, b2, X)\n",
    "        cost = compute_cost(A2, one_hot(Y))\n",
    "        costs.append(cost)  # Append the current cost to the list\n",
    "        dW1, db1, dW2, db2 = backward_propagation(Z1, A1, Z2, A2, W2, X, Y)\n",
    "        W1, b1, W2, b2 = update_parameters(W1, b1, W2, b2, dW1, db1, dW2, db2, Learning_Rate)\n",
    "        if i % 10 == 0:\n",
    "            print(\"Cost after iteration {}: {}\".format(i, np.squeeze(cost)))\n",
    "            predictions = get_predictions(A2)\n",
    "            print(\"Accuracy: \" + str(get_accuracy(predictions, Y)))\n",
    "\n",
    "    return W1, b1, W2, b2, costs"
   ]
  },
  {
   "cell_type": "code",
   "execution_count": 27,
   "metadata": {
    "scrolled": true
   },
   "outputs": [
    {
     "name": "stdout",
     "output_type": "stream",
     "text": [
      "Cost after iteration 0: 0.23023713842640617\n",
      "Accuracy: 0.13716666666666666\n",
      "Cost after iteration 10: 0.23007976718150192\n",
      "Accuracy: 0.19215\n",
      "Cost after iteration 20: 0.22977126156150984\n",
      "Accuracy: 0.20681666666666668\n",
      "Cost after iteration 30: 0.2290573379877942\n",
      "Accuracy: 0.21338333333333334\n",
      "Cost after iteration 40: 0.2273653531955007\n",
      "Accuracy: 0.2147\n",
      "Cost after iteration 50: 0.22373770368656387\n",
      "Accuracy: 0.21915\n",
      "Cost after iteration 60: 0.2176301224310317\n",
      "Accuracy: 0.24388333333333334\n",
      "Cost after iteration 70: 0.2094665770281659\n",
      "Accuracy: 0.29888333333333333\n",
      "Cost after iteration 80: 0.19852667441623184\n",
      "Accuracy: 0.3702\n",
      "Cost after iteration 90: 0.18309138264416197\n",
      "Accuracy: 0.45766666666666667\n",
      "Cost after iteration 100: 0.16345359577048466\n",
      "Accuracy: 0.5545333333333333\n",
      "Cost after iteration 110: 0.14347064165862597\n",
      "Accuracy: 0.6229\n",
      "Cost after iteration 120: 0.12618350636119194\n",
      "Accuracy: 0.6763666666666667\n",
      "Cost after iteration 130: 0.11228146740772939\n",
      "Accuracy: 0.7195833333333334\n",
      "Cost after iteration 140: 0.10122615761368825\n",
      "Accuracy: 0.7529666666666667\n",
      "Cost after iteration 150: 0.09224019486239265\n",
      "Accuracy: 0.7733166666666667\n",
      "Cost after iteration 160: 0.0847990934856403\n",
      "Accuracy: 0.78665\n",
      "Cost after iteration 170: 0.07861639005319253\n",
      "Accuracy: 0.79825\n",
      "Cost after iteration 180: 0.0734870672561429\n",
      "Accuracy: 0.8083333333333333\n",
      "Cost after iteration 190: 0.06921559153103335\n",
      "Accuracy: 0.8171166666666667\n",
      "Cost after iteration 200: 0.06562397713405377\n",
      "Accuracy: 0.8256833333333333\n",
      "Cost after iteration 210: 0.06256700196147565\n",
      "Accuracy: 0.8325833333333333\n",
      "Cost after iteration 220: 0.059932555997945905\n",
      "Accuracy: 0.8389666666666666\n",
      "Cost after iteration 230: 0.05763771768338611\n",
      "Accuracy: 0.8455166666666667\n",
      "Cost after iteration 240: 0.05562043179881461\n",
      "Accuracy: 0.85015\n",
      "Cost after iteration 250: 0.05383394130151965\n",
      "Accuracy: 0.8551\n",
      "Cost after iteration 260: 0.05224231958063159\n",
      "Accuracy: 0.8601166666666666\n",
      "Cost after iteration 270: 0.05081728081688327\n",
      "Accuracy: 0.8636166666666667\n",
      "Cost after iteration 280: 0.049535814003043695\n",
      "Accuracy: 0.8672833333333333\n",
      "Cost after iteration 290: 0.04837922813422214\n",
      "Accuracy: 0.8703666666666666\n",
      "Cost after iteration 300: 0.04733176937369732\n",
      "Accuracy: 0.8732\n",
      "Cost after iteration 310: 0.04638024808740558\n",
      "Accuracy: 0.8751833333333333\n",
      "Cost after iteration 320: 0.045513316862953\n",
      "Accuracy: 0.8773\n",
      "Cost after iteration 330: 0.044720629054449464\n",
      "Accuracy: 0.8793\n",
      "Cost after iteration 340: 0.04399408960216341\n",
      "Accuracy: 0.8812\n",
      "Cost after iteration 350: 0.043326175939283104\n",
      "Accuracy: 0.8827666666666667\n",
      "Cost after iteration 360: 0.04271049153484956\n",
      "Accuracy: 0.8840833333333333\n",
      "Cost after iteration 370: 0.042141043525827405\n",
      "Accuracy: 0.8852833333333333\n",
      "Cost after iteration 380: 0.04161289932406756\n",
      "Accuracy: 0.8861666666666667\n",
      "Cost after iteration 390: 0.0411218001002818\n",
      "Accuracy: 0.88695\n",
      "Cost after iteration 400: 0.04066388454302681\n",
      "Accuracy: 0.8880333333333333\n",
      "Cost after iteration 410: 0.04023578852877287\n",
      "Accuracy: 0.8889166666666667\n",
      "Cost after iteration 420: 0.039834468407907164\n",
      "Accuracy: 0.88995\n",
      "Cost after iteration 430: 0.03945696347665748\n",
      "Accuracy: 0.8909666666666667\n",
      "Cost after iteration 440: 0.039101267675508714\n",
      "Accuracy: 0.8917666666666667\n",
      "Cost after iteration 450: 0.03876525127170827\n",
      "Accuracy: 0.89225\n",
      "Cost after iteration 460: 0.03844711991925859\n",
      "Accuracy: 0.8929666666666667\n",
      "Cost after iteration 470: 0.038145206759816884\n",
      "Accuracy: 0.89355\n",
      "Cost after iteration 480: 0.037858155624159846\n",
      "Accuracy: 0.8944\n",
      "Cost after iteration 490: 0.03758452442705248\n",
      "Accuracy: 0.8950666666666667\n",
      "Cost after iteration 500: 0.03732341176087347\n",
      "Accuracy: 0.8956333333333333\n",
      "Cost after iteration 510: 0.03707373695125732\n",
      "Accuracy: 0.89635\n",
      "Cost after iteration 520: 0.03683448616760629\n",
      "Accuracy: 0.8969\n",
      "Cost after iteration 530: 0.0366048683802986\n",
      "Accuracy: 0.8975333333333333\n",
      "Cost after iteration 540: 0.036384221669264555\n",
      "Accuracy: 0.8981833333333333\n",
      "Cost after iteration 550: 0.03617171935772602\n",
      "Accuracy: 0.8986833333333333\n",
      "Cost after iteration 560: 0.03596698251402574\n",
      "Accuracy: 0.8992833333333333\n",
      "Cost after iteration 570: 0.03576939833658921\n",
      "Accuracy: 0.89985\n",
      "Cost after iteration 580: 0.03557837442309478\n",
      "Accuracy: 0.9003166666666667\n",
      "Cost after iteration 590: 0.035393549379910905\n",
      "Accuracy: 0.9008\n",
      "Cost after iteration 600: 0.03521469016361827\n",
      "Accuracy: 0.9013\n",
      "Cost after iteration 610: 0.03504130141349644\n",
      "Accuracy: 0.90165\n",
      "Cost after iteration 620: 0.034873239897608155\n",
      "Accuracy: 0.90205\n",
      "Cost after iteration 630: 0.034709847904761525\n",
      "Accuracy: 0.90245\n",
      "Cost after iteration 640: 0.03455090101678453\n",
      "Accuracy: 0.90295\n",
      "Cost after iteration 650: 0.03439601408287467\n",
      "Accuracy: 0.9033\n",
      "Cost after iteration 660: 0.03424492699926274\n",
      "Accuracy: 0.9035\n",
      "Cost after iteration 670: 0.03409754223559758\n",
      "Accuracy: 0.90395\n",
      "Cost after iteration 680: 0.033953828757804755\n",
      "Accuracy: 0.9043166666666667\n",
      "Cost after iteration 690: 0.03381361935091945\n",
      "Accuracy: 0.9047333333333333\n",
      "Cost after iteration 700: 0.033676473563669325\n",
      "Accuracy: 0.9051166666666667\n",
      "Cost after iteration 710: 0.03354243856060424\n",
      "Accuracy: 0.9053833333333333\n",
      "Cost after iteration 720: 0.03341125065768383\n",
      "Accuracy: 0.9057833333333334\n",
      "Cost after iteration 730: 0.033282769318710645\n",
      "Accuracy: 0.9062\n",
      "Cost after iteration 740: 0.033157057475703154\n",
      "Accuracy: 0.90655\n",
      "Cost after iteration 750: 0.03303397238538005\n",
      "Accuracy: 0.9069333333333334\n",
      "Cost after iteration 760: 0.032913213951910616\n",
      "Accuracy: 0.9070833333333334\n",
      "Cost after iteration 770: 0.03279505820159371\n",
      "Accuracy: 0.9074666666666666\n",
      "Cost after iteration 780: 0.03267917801117807\n",
      "Accuracy: 0.9077666666666667\n",
      "Cost after iteration 790: 0.032565562611487894\n",
      "Accuracy: 0.9079166666666667\n",
      "Cost after iteration 800: 0.032454117143273384\n",
      "Accuracy: 0.9082666666666667\n",
      "Cost after iteration 810: 0.03234474410589057\n",
      "Accuracy: 0.90855\n",
      "Cost after iteration 820: 0.032237533904014515\n",
      "Accuracy: 0.9088833333333334\n",
      "Cost after iteration 830: 0.032132370177650055\n",
      "Accuracy: 0.9090666666666667\n",
      "Cost after iteration 840: 0.032029137515337015\n",
      "Accuracy: 0.90945\n",
      "Cost after iteration 850: 0.03192762588913388\n",
      "Accuracy: 0.9098333333333334\n",
      "Cost after iteration 860: 0.03182784634459333\n",
      "Accuracy: 0.9102166666666667\n",
      "Cost after iteration 870: 0.03172947254464885\n",
      "Accuracy: 0.9104833333333333\n",
      "Cost after iteration 880: 0.031632662381285426\n",
      "Accuracy: 0.9107\n",
      "Cost after iteration 890: 0.03153747932724171\n",
      "Accuracy: 0.9110333333333334\n",
      "Cost after iteration 900: 0.03144391186122463\n",
      "Accuracy: 0.9112333333333333\n",
      "Cost after iteration 910: 0.03135187235235291\n",
      "Accuracy: 0.9114\n",
      "Cost after iteration 920: 0.03126140442739912\n",
      "Accuracy: 0.9116166666666666\n",
      "Cost after iteration 930: 0.031172242196241665\n",
      "Accuracy: 0.9119833333333334\n",
      "Cost after iteration 940: 0.031084440342987945\n",
      "Accuracy: 0.91225\n",
      "Cost after iteration 950: 0.03099798413710192\n",
      "Accuracy: 0.9124666666666666\n",
      "Cost after iteration 960: 0.030912856504687024\n",
      "Accuracy: 0.9125166666666666\n",
      "Cost after iteration 970: 0.030829102400790648\n",
      "Accuracy: 0.9127333333333333\n",
      "Cost after iteration 980: 0.030746657669018473\n",
      "Accuracy: 0.9129\n",
      "Cost after iteration 990: 0.030665453755574473\n",
      "Accuracy: 0.9130333333333334\n"
     ]
    }
   ],
   "source": [
    "W1, b1, W2, b2, costs = Gradient_Descent(X_train, Y_train, 1000, 0.1)"
   ]
  },
  {
   "cell_type": "code",
   "execution_count": 28,
   "metadata": {},
   "outputs": [
    {
     "data": {
      "image/png": "[encoded data removed]",
      "text/plain": [
       "<Figure size 640x480 with 1 Axes>"
      ]
     },
     "metadata": {},
     "output_type": "display_data"
    }
   ],
   "source": [
    "# Plot cost Vs Iterations\n",
    "plt.plot(costs)\n",
    "plt.title('Cost Reduction Over Iterations')\n",
    "plt.xlabel('Iterations')\n",
    "plt.ylabel('Cost')\n",
    "plt.grid()\n",
    "plt.show()"
   ]
  },
  {
   "cell_type": "code",
   "execution_count": 29,
   "metadata": {
    "colab": {
     "base_uri": "https://localhost:8080/"
    },
    "id": "DlCBK6YUpU3k",
    "outputId": "cdbd4ce3-7803-4c80-a5b5-c892c4897a05"
   },
   "outputs": [
    {
     "name": "stdout",
     "output_type": "stream",
     "text": [
      "Accuracy  :0.9154\n"
     ]
    }
   ],
   "source": [
    "# Find accuracy of model on test data\n",
    "Z1, A1, Z2, A2 = forward_propagation(W1, b1, W2, b2, X_test)\n",
    "predictions = get_predictions(A2)\n",
    "print(\"Accuracy  :\" + str(get_accuracy(predictions, Y_test)))"
   ]
  },
  {
   "cell_type": "code",
   "execution_count": 30,
   "metadata": {},
   "outputs": [
    {
     "name": "stdout",
     "output_type": "stream",
     "text": [
      "Shape of predictions is (10000,)\n",
      "Shape of Y_test is (1, 10000)\n",
      "Shape of predictions is (10000,)\n",
      "Shape of Y_test is (10000,)\n"
     ]
    }
   ],
   "source": [
    "print(f'Shape of predictions is {predictions.shape}')\n",
    "print(f'Shape of Y_test is {Y_test.shape}')\n",
    "Y_test = Y_test.flatten()\n",
    "print(f'Shape of predictions is {predictions.shape}')\n",
    "print(f'Shape of Y_test is {Y_test.shape}')"
   ]
  },
  {
   "cell_type": "code",
   "execution_count": 31,
   "metadata": {},
   "outputs": [
    {
     "data": {
      "image/png": "[encoded data removed]",
      "text/plain": [
       "<Figure size 640x480 with 2 Axes>"
      ]
     },
     "metadata": {},
     "output_type": "display_data"
    }
   ],
   "source": [
    "# Plot the confusion matrix\n",
    "cm = confusion_matrix(Y_test, predictions)\n",
    "disp = ConfusionMatrixDisplay(confusion_matrix=cm, display_labels=np.arange(10))\n",
    "disp.plot(cmap='Blues', xticks_rotation='vertical')\n",
    "plt.title('Confusion Matrix')\n",
    "plt.show()"
   ]
  },
  {
   "cell_type": "code",
   "execution_count": 32,
   "metadata": {},
   "outputs": [
    {
     "data": {
      "image/png": "[encoded data removed]",
      "text/plain": [
       "<Figure size 1000x1000 with 5 Axes>"
      ]
     },
     "metadata": {},
     "output_type": "display_data"
    }
   ],
   "source": [
    "# Find misclassified indices\n",
    "misclassified_indices = np.where(predictions != Y_test)[0]\n",
    "\n",
    "# Plot the first 5 misclassified images\n",
    "plt.figure(figsize=(10, 10))\n",
    "for i, index in enumerate(misclassified_indices[:5]):\n",
    "    plt.subplot(1, 5, i + 1)\n",
    "    plt.imshow(X_test[:, index].reshape(28, 28), cmap='gray')\n",
    "    plt.title(f\"True: {Y_test[index]}, Pred: {predictions[index]}\")\n",
    "    plt.axis('off')\n",
    "plt.show()"
   ]
  }
 ],
 "metadata": {
  "accelerator": "GPU",
  "colab": {
   "gpuType": "T4",
   "provenance": []
  },
  "kernelspec": {
   "display_name": "Python 3 (ipykernel)",
   "language": "python",
   "name": "python3"
  },
  "language_info": {
   "codemirror_mode": {
    "name": "ipython",
    "version": 3
   },
   "file_extension": ".py",
   "mimetype": "text/x-python",
   "name": "python",
   "nbconvert_exporter": "python",
   "pygments_lexer": "ipython3",
   "version": "3.12.0"
  }
 },
 "nbformat": 4,
 "nbformat_minor": 4
}
