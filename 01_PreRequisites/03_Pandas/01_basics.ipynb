{
 "cells": [
  {
   "cell_type": "markdown",
   "id": "ea86f9bf-275b-41d3-a4ed-68747a656abd",
   "metadata": {},
   "source": [
    "# NumPy VS Pandas\n",
    "\n",
    "- NumPy:\n",
    "1. Core Functionality: NumPy is primarily used for numerical computing and working with large arrays and matrices.\n",
    "2. Data Structure: It provides the ndarray (N-dimensional array), which allows fast, vectorized operations on homogeneous data (all elements of the array are of the same type).\n",
    "3. Use Case: Ideal for performing mathematical, logical, and statistical operations on large datasets, especially when working with numerical data.\n",
    "4. Speed: NumPy arrays are more memory efficient and faster for numerical operations compared to Python lists.\n",
    "- Pandas:\n",
    "1. Core Functionality: Pandas is built on top of NumPy and is designed for working with labeled, heterogeneous data, particularly structured data like tables (think spreadsheets or SQL tables).\n",
    "2. Data Structures: It provides two primary data structures: Series (1-dimensional labeled array) and DataFrame (2-dimensional labeled data structure). These structures allow handling and analyzing data with various data types (numeric, string, etc.).\n",
    "3. Use Case: Excellent for data manipulation, cleaning, merging, reshaping, and handling missing values. It also offers high-level functionality for time series analysis.\n",
    "4. Flexibility: Pandas is better suited for working with real-world data that may involve heterogeneous data types (e.g., numbers, text, dates), and it has more advanced indexing and selection capabilities."
   ]
  },
  {
   "cell_type": "markdown",
   "id": "a438d9b2-5f1c-4cbf-bdfc-f3466284bfce",
   "metadata": {},
   "source": [
    "## Importing Pandas:\n",
    "\n",
    "To use Pandas in your Python program, the standard way is:\n",
    "\n",
    "```\n",
    "import pandas as pd\n",
    "```\n",
    "\n",
    "-> Explanation:\n",
    "- import pandas: This loads the Pandas library, which is used for data manipulation and analysis, especially with structured data like tables.\n",
    "- as pd: This creates an alias (pd) for Pandas, allowing you to use pd instead of pandas throughout your code, making it more concise.\n"
   ]
  },
  {
   "cell_type": "code",
   "execution_count": 2,
   "id": "b6002bb1-1485-4f06-bb3b-8bd7e96f62a3",
   "metadata": {},
   "outputs": [
    {
     "name": "stdout",
     "output_type": "stream",
     "text": [
      "0    10\n",
      "1    20\n",
      "2    30\n",
      "3    40\n",
      "4    50\n",
      "dtype: int64\n"
     ]
    }
   ],
   "source": [
    "import pandas as pd\n",
    "\n",
    "# Creating a Pandas Series (similar to a NumPy array)\n",
    "arr1 = pd.Series([10, 20, 30, 40, 50])\n",
    "\n",
    "# Printing the Series\n",
    "print(arr1)"
   ]
  },
  {
   "cell_type": "markdown",
   "id": "fc4d77ac-36ca-43f8-9d2f-5d4424a82feb",
   "metadata": {},
   "source": [
    "- You can also import all the functions from Pandas directly:"
   ]
  },
  {
   "cell_type": "code",
   "execution_count": 3,
   "id": "3fbf960a-b67f-4963-8639-727c219c81f9",
   "metadata": {},
   "outputs": [
    {
     "name": "stdout",
     "output_type": "stream",
     "text": [
      "0    10\n",
      "1    20\n",
      "2    30\n",
      "3    40\n",
      "4    50\n",
      "dtype: int64\n"
     ]
    }
   ],
   "source": [
    "from pandas import *\n",
    "\n",
    "# Creating a Pandas Series using the direct import\n",
    "arr2 = Series([10, 20, 30, 40, 50])\n",
    "\n",
    "# Printing the Series\n",
    "print(arr2)"
   ]
  }
 ],
 "metadata": {
  "kernelspec": {
   "display_name": "Python 3 (ipykernel)",
   "language": "python",
   "name": "python3"
  },
  "language_info": {
   "codemirror_mode": {
    "name": "ipython",
    "version": 3
   },
   "file_extension": ".py",
   "mimetype": "text/x-python",
   "name": "python",
   "nbconvert_exporter": "python",
   "pygments_lexer": "ipython3",
   "version": "3.12.0"
  }
 },
 "nbformat": 4,
 "nbformat_minor": 5
}
