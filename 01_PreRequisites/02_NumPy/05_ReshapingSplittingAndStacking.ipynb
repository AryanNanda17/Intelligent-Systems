{
 "cells": [
  {
   "cell_type": "markdown",
   "id": "757bbc1a-8ece-4799-90d0-806682978b8e",
   "metadata": {},
   "source": [
    "# 1. Reshaping\n",
    "Reshaping allows you to change the shape of an array without modifying its data. This is useful when you want to organize the data in a specific way, for example, changing a flat array into a matrix.\n",
    "\n",
    "-> Key Points:\n",
    "- The total number of elements in the reshaped array must match the total number of elements in the original array. In the above examples, the total size is 12.\n",
    "- reshape() doesn't modify the original array; instead, it returns a new view of the array with the desired shape."
   ]
  },
  {
   "cell_type": "code",
   "execution_count": 1,
   "id": "713f0846-58ff-4fad-9565-c644c4a3af07",
   "metadata": {},
   "outputs": [
    {
     "name": "stdout",
     "output_type": "stream",
     "text": [
      "Original 1D Array: [ 1  2  3  4  5  6  7  8  9 10 11 12]\n",
      "Reshaped to 3x4 Array:\n",
      " [[ 1  2  3  4]\n",
      " [ 5  6  7  8]\n",
      " [ 9 10 11 12]]\n",
      "Reshaped to 4x3 Array:\n",
      " [[ 1  2  3]\n",
      " [ 4  5  6]\n",
      " [ 7  8  9]\n",
      " [10 11 12]]\n",
      "Reshaped to 2x2x3 Array:\n",
      " [[[ 1  2  3]\n",
      "  [ 4  5  6]]\n",
      "\n",
      " [[ 7  8  9]\n",
      "  [10 11 12]]]\n"
     ]
    }
   ],
   "source": [
    "import numpy as np\n",
    "\n",
    "# Original 1D array\n",
    "a = np.array([1, 2, 3, 4, 5, 6, 7, 8, 9, 10, 11, 12])\n",
    "print(\"Original 1D Array:\", a)\n",
    "\n",
    "# Reshape it into a 2D array with 3 rows and 4 columns\n",
    "reshaped_a = a.reshape(3, 4)\n",
    "print(\"Reshaped to 3x4 Array:\\n\", reshaped_a)\n",
    "\n",
    "# Reshape into a 2D array with 4 rows and 3 columns\n",
    "reshaped_b = a.reshape(4, 3)\n",
    "print(\"Reshaped to 4x3 Array:\\n\", reshaped_b)\n",
    "\n",
    "# Reshape into a 3D array with 2 matrices, each having 2 rows and 3 columns\n",
    "reshaped_c = a.reshape(2, 2, 3)\n",
    "print(\"Reshaped to 2x2x3 Array:\\n\", reshaped_c)"
   ]
  },
  {
   "cell_type": "markdown",
   "id": "c2c69b25-b923-489a-94aa-81df57a7ed2e",
   "metadata": {},
   "source": [
    "## Simple 1D to 2D Reshaping"
   ]
  },
  {
   "cell_type": "code",
   "execution_count": 1,
   "id": "391aa75d-e2a0-4524-8dbe-da0fc4d1f3a6",
   "metadata": {},
   "outputs": [
    {
     "name": "stdout",
     "output_type": "stream",
     "text": [
      "Reshaped Array (1 row, 6 columns):\n",
      "[[1 2 3 4 5 6]]\n"
     ]
    }
   ],
   "source": [
    "import numpy as np\n",
    "\n",
    "# Original 1D array\n",
    "a = np.array([1, 2, 3, 4, 5, 6])\n",
    "\n",
    "# Reshape into 1 row and automatically calculate the number of columns\n",
    "reshaped = a.reshape(1, -1)\n",
    "\n",
    "print(\"Reshaped Array (1 row, 6 columns):\")\n",
    "print(reshaped)"
   ]
  },
  {
   "cell_type": "markdown",
   "id": "5aba30d2-3523-45a8-b5b1-5d6ca7c1e953",
   "metadata": {},
   "source": [
    "## Reshaping a 1D Array to Multiple Rows"
   ]
  },
  {
   "cell_type": "code",
   "execution_count": 12,
   "id": "c3844013-6183-406c-9745-4ed77b4ca75b",
   "metadata": {},
   "outputs": [
    {
     "name": "stdout",
     "output_type": "stream",
     "text": [
      "Reshaped Array (2 rows, 3 columns):\n",
      "[[1 2 3]\n",
      " [4 5 6]]\n"
     ]
    }
   ],
   "source": [
    "# Reshape into 2 rows and automatically calculate the number of columns\n",
    "a = np.array([1, 2, 3, 4, 5, 6])\n",
    "reshaped_multi_row = a.reshape(2, -1)\n",
    "\n",
    "print(\"Reshaped Array (2 rows, 3 columns):\")\n",
    "print(reshaped_multi_row)"
   ]
  },
  {
   "cell_type": "markdown",
   "id": "f44a731f-da23-4371-9a4f-d69ac8dfd848",
   "metadata": {},
   "source": [
    "## Simple 1D to 2D Reshaping for Columns"
   ]
  },
  {
   "cell_type": "code",
   "execution_count": 13,
   "id": "8bb72cd4-dc4e-4db9-903c-80e0337b39e1",
   "metadata": {},
   "outputs": [
    {
     "name": "stdout",
     "output_type": "stream",
     "text": [
      "Reshaped Array (6 rows, 1 column):\n",
      "[[1]\n",
      " [2]\n",
      " [3]\n",
      " [4]\n",
      " [5]\n",
      " [6]]\n"
     ]
    }
   ],
   "source": [
    "import numpy as np\n",
    "\n",
    "# Original 1D array\n",
    "a = np.array([1, 2, 3, 4, 5, 6])\n",
    "\n",
    "# Reshape into 1 column and automatically calculate the number of rows\n",
    "reshaped_col = a.reshape(-1, 1)\n",
    "\n",
    "print(\"Reshaped Array (6 rows, 1 column):\")\n",
    "print(reshaped_col)"
   ]
  },
  {
   "cell_type": "markdown",
   "id": "d6be135a-09d2-40e6-9c2b-c1d023d20727",
   "metadata": {},
   "source": [
    "## Reshaping a 1D Array into Multiple Columns (More than 1)"
   ]
  },
  {
   "cell_type": "code",
   "execution_count": 14,
   "id": "cffc45bc-2f4e-481e-9225-cea418765eb8",
   "metadata": {},
   "outputs": [
    {
     "name": "stdout",
     "output_type": "stream",
     "text": [
      "Reshaped Array (3 rows, 2 columns):\n",
      "[[1 2]\n",
      " [3 4]\n",
      " [5 6]]\n"
     ]
    }
   ],
   "source": [
    "# Reshape into 2 columns and automatically calculate the number of rows\n",
    "a = np.array([1, 2, 3, 4, 5, 6])\n",
    "reshaped_2col = a.reshape(-1, 2)\n",
    "\n",
    "print(\"Reshaped Array (3 rows, 2 columns):\")\n",
    "print(reshaped_2col)"
   ]
  },
  {
   "cell_type": "markdown",
   "id": "097f4476-b9a4-4e4a-9f1d-e7089804ab62",
   "metadata": {},
   "source": [
    "# 2. Splitting\n",
    "Splitting refers to dividing an array into smaller arrays. You can split arrays along specific axes.\n",
    "\n",
    "-> Key Points:\n",
    "- np.split() splits the array into equal-sized sub-arrays along a given axis.\n",
    "- For 1D arrays, you can split them into several sub-arrays. For 2D arrays, you can split them along rows or columns.\n",
    "- The sum of the sizes of the split arrays will always equal the size of the original array."
   ]
  },
  {
   "cell_type": "code",
   "execution_count": 2,
   "id": "d597ddac-cd5f-4126-9de1-b35d54feda34",
   "metadata": {},
   "outputs": [
    {
     "name": "stdout",
     "output_type": "stream",
     "text": [
      "Split into 3 sub-arrays: [array([1, 2, 3, 4]), array([5, 6, 7, 8]), array([ 9, 10, 11, 12])]\n",
      "\n",
      "Split 2D array along rows:\n",
      " [array([[1, 2, 3],\n",
      "       [4, 5, 6]]), array([[ 7,  8,  9],\n",
      "       [10, 11, 12]])]\n",
      "\n",
      "Split 2D array along columns:\n",
      " [array([[ 1],\n",
      "       [ 4],\n",
      "       [ 7],\n",
      "       [10]]), array([[ 2],\n",
      "       [ 5],\n",
      "       [ 8],\n",
      "       [11]]), array([[ 3],\n",
      "       [ 6],\n",
      "       [ 9],\n",
      "       [12]])]\n"
     ]
    }
   ],
   "source": [
    "# Original 1D array\n",
    "a = np.array([1, 2, 3, 4, 5, 6, 7, 8, 9, 10, 11, 12])\n",
    "\n",
    "# Split the array into 3 sub-arrays\n",
    "split_a = np.split(a, 3)\n",
    "print(\"Split into 3 sub-arrays:\", split_a)\n",
    "\n",
    "# Split 2D array along rows\n",
    "b = np.array([[1, 2, 3], [4, 5, 6], [7, 8, 9], [10, 11, 12]])\n",
    "split_b = np.split(b, 2, axis=0)  # Splitting along rows (axis 0)\n",
    "print(\"\\nSplit 2D array along rows:\\n\", split_b)\n",
    "\n",
    "# Split 2D array along columns\n",
    "split_b_cols = np.split(b, 3, axis=1)  # Splitting along columns (axis 1)\n",
    "print(\"\\nSplit 2D array along columns:\\n\", split_b_cols)"
   ]
  },
  {
   "cell_type": "markdown",
   "id": "fe268306-cf80-4e3b-8c4d-c6d0695b4ae5",
   "metadata": {},
   "source": [
    "# 3. Stacking\n",
    "Stacking combines multiple arrays into a single array along a new axis. There are different ways to stack arrays:\n",
    "\n",
    "## 1. Vertical Stacking (vstack): Stacks arrays vertically (along rows)."
   ]
  },
  {
   "cell_type": "code",
   "execution_count": 3,
   "id": "84d8a841-87de-40ba-b012-f6d9e327f20c",
   "metadata": {},
   "outputs": [
    {
     "name": "stdout",
     "output_type": "stream",
     "text": [
      "Vertically Stacked Array:\n",
      " [[1 2 3]\n",
      " [4 5 6]]\n"
     ]
    }
   ],
   "source": [
    "# Original arrays\n",
    "a = np.array([1, 2, 3])\n",
    "b = np.array([4, 5, 6])\n",
    "\n",
    "# Stack vertically\n",
    "vstacked = np.vstack((a, b))\n",
    "print(\"Vertically Stacked Array:\\n\", vstacked)"
   ]
  },
  {
   "cell_type": "markdown",
   "id": "d83d8625-2a10-4a3a-a66f-742b60fb320c",
   "metadata": {},
   "source": [
    "## 2. Horizontal Stacking (hstack): Stacks arrays horizontally (along columns)."
   ]
  },
  {
   "cell_type": "code",
   "execution_count": 4,
   "id": "a6476c92-3899-4fe8-ac63-08b5a73a943e",
   "metadata": {},
   "outputs": [
    {
     "name": "stdout",
     "output_type": "stream",
     "text": [
      "Horizontally Stacked Array: [1 2 3 4 5 6]\n"
     ]
    }
   ],
   "source": [
    "# Stack horizontally\n",
    "hstacked = np.hstack((a, b))\n",
    "print(\"Horizontally Stacked Array:\", hstacked)"
   ]
  },
  {
   "cell_type": "markdown",
   "id": "eac637a1-35a8-4b92-ba25-f07590758219",
   "metadata": {},
   "source": [
    "## 3. Depth Stacking (dstack): Stacks arrays along the third dimension (depth)."
   ]
  },
  {
   "cell_type": "code",
   "execution_count": 6,
   "id": "f2cfc245-def9-4c5f-9bdb-e528035261d4",
   "metadata": {},
   "outputs": [
    {
     "name": "stdout",
     "output_type": "stream",
     "text": [
      "Depth Stacked Array:\n",
      " [[[1 4]\n",
      "  [2 5]\n",
      "  [3 6]]]\n"
     ]
    }
   ],
   "source": [
    "# Stack along depth (3rd dimension)\n",
    "dstacked = np.dstack((a, b))\n",
    "print(\"Depth Stacked Array:\\n\", dstacked)"
   ]
  },
  {
   "cell_type": "markdown",
   "id": "6d649266-d8bd-400c-bd67-5c8ea15c073d",
   "metadata": {},
   "source": [
    "## 4. Concatenate: You can also use np.concatenate() to stack arrays along a specified axis.\n",
    "-> How Concatenation Works:\n",
    "- Axis 0 (Rows): When concatenating along axis 0, the arrays are stacked row-wise, meaning they are joined along the rows (vertical stacking).\n",
    "- Axis 1 (Columns): When concatenating along axis 1, the arrays are stacked column-wise, meaning they are joined along the columns (horizontal stacking)."
   ]
  },
  {
   "cell_type": "code",
   "execution_count": 8,
   "id": "59cc5171-bbd1-4fab-96f5-cf26e1b89201",
   "metadata": {},
   "outputs": [
    {
     "name": "stdout",
     "output_type": "stream",
     "text": [
      "Concatenated Array along rows:\n",
      " [[1 2 3]\n",
      " [4 5 6]]\n",
      "Concatenated Array along columns:\n",
      " [[1 4]\n",
      " [2 5]\n",
      " [3 6]]\n"
     ]
    }
   ],
   "source": [
    "import numpy as np\n",
    "\n",
    "# Define two 1D arrays\n",
    "a = np.array([1, 2, 3])\n",
    "b = np.array([4, 5, 6])\n",
    "\n",
    "# Reshape both arrays into 2D arrays (1 row, 3 columns)\n",
    "a_reshaped = a.reshape(1, -1)  # shape (1, 3)\n",
    "b_reshaped = b.reshape(1, -1)  # shape (1, 3)\n",
    "\n",
    "# Concatenate along axis 0 (rows)\n",
    "# This will stack the arrays vertically, i.e., add rows to the 2D array\n",
    "concatenated_rows = np.concatenate((a_reshaped, b_reshaped), axis=0)\n",
    "print(\"Concatenated Array along rows:\\n\", concatenated_rows)\n",
    "\n",
    "# Reshape a and b to column vectors (3 rows, 1 column)\n",
    "a_col = a.reshape(-1, 1)  # shape (3, 1)\n",
    "b_col = b.reshape(-1, 1)  # shape (3, 1)\n",
    "\n",
    "# Concatenate along axis 1 (columns)\n",
    "# This will stack the arrays horizontally, i.e., add columns to the 2D array\n",
    "concatenated_cols = np.concatenate((a_col, b_col), axis=1)\n",
    "print(\"Concatenated Array along columns:\\n\", concatenated_cols)"
   ]
  }
 ],
 "metadata": {
  "kernelspec": {
   "display_name": "model",
   "language": "python",
   "name": "python3"
  },
  "language_info": {
   "codemirror_mode": {
    "name": "ipython",
    "version": 3
   },
   "file_extension": ".py",
   "mimetype": "text/x-python",
   "name": "python",
   "nbconvert_exporter": "python",
   "pygments_lexer": "ipython3",
   "version": "3.12.0"
  }
 },
 "nbformat": 4,
 "nbformat_minor": 5
}
