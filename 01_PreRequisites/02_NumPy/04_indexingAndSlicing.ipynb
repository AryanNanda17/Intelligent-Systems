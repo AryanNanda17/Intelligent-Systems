{
 "cells": [
  {
   "cell_type": "markdown",
   "id": "eeffc8c1-407e-4395-8946-94b393a25c48",
   "metadata": {},
   "source": [
    "# Indexing\n",
    "\n",
    "You can index and slice NumPy arrays in the same ways you can slice Python lists.\n",
    "\n"
   ]
  },
  {
   "cell_type": "code",
   "execution_count": 2,
   "id": "0a56ea35-3b4c-4af7-9ac9-916fa6157499",
   "metadata": {},
   "outputs": [
    {
     "name": "stdout",
     "output_type": "stream",
     "text": [
      "1D Array: [10 20 30 40 50]\n",
      "Element at index 0: 10\n",
      "Element at index -1 (last element): 50\n",
      "\n",
      "2D Array:\n",
      " [[1 2 3]\n",
      " [4 5 6]\n",
      " [7 8 9]]\n",
      "Element at (0, 1): 2\n",
      "Element at (2, 2): 9\n",
      "\n",
      "3D Array:\n",
      " [[[0.84762623 0.18695667]\n",
      "  [0.38701642 0.71183914]\n",
      "  [0.95990061 0.04915228]]\n",
      "\n",
      " [[0.72327575 0.18360268]\n",
      "  [0.5435994  0.44760271]\n",
      "  [0.26863486 0.25168978]]\n",
      "\n",
      " [[0.99199005 0.65889309]\n",
      "  [0.33225924 0.53555656]\n",
      "  [0.86475468 0.78940708]]\n",
      "\n",
      " [[0.20543696 0.4685444 ]\n",
      "  [0.24735494 0.13769639]\n",
      "  [0.72835968 0.70598264]]]\n",
      "Element at (1, 2, 0): 0.26863485880913296\n"
     ]
    }
   ],
   "source": [
    "import numpy as np\n",
    "\n",
    "# 1D Array Indexing\n",
    "a = np.array([10, 20, 30, 40, 50])\n",
    "print(\"1D Array:\", a)\n",
    "\n",
    "# Indexing (Accessing individual elements)\n",
    "print(\"Element at index 0:\", a[0])  # Output: 10\n",
    "print(\"Element at index -1 (last element):\", a[-1])  # Output: 50\n",
    "\n",
    "# 2D Array Indexing\n",
    "b = np.array([[1, 2, 3], [4, 5, 6], [7, 8, 9]])\n",
    "print(\"\\n2D Array:\\n\", b)\n",
    "\n",
    "# Indexing (Accessing individual elements)\n",
    "print(\"Element at (0, 1):\", b[0][1])  # or b[0, 1]\n",
    "print(\"Element at (2, 2):\", b[2][2])  # or b[2, 2]\n",
    "\n",
    "# 3D Array Indexing\n",
    "c = np.random.rand(4, 3, 2)\n",
    "print(\"\\n3D Array:\\n\", c)\n",
    "\n",
    "# Accessing an element from 3D array\n",
    "print(\"Element at (1, 2, 0):\", c[1][2][0]) # or c[1, 2, 0]"
   ]
  },
  {
   "cell_type": "markdown",
   "id": "50c41125-1416-4177-98f0-37705193b93c",
   "metadata": {},
   "source": [
    "## Boolean Indexing"
   ]
  },
  {
   "cell_type": "code",
   "execution_count": 4,
   "id": "6caa598c-c27f-40ab-9195-cee5865a6e05",
   "metadata": {},
   "outputs": [
    {
     "name": "stdout",
     "output_type": "stream",
     "text": [
      "Original Array: [ 10  20  30  40  50  60  70  80  90 100]\n",
      "\n",
      "Elements greater than 50: [ 60  70  80  90 100]\n",
      "\n",
      "Even elements: [ 10  20  30  40  50  60  70  80  90 100]\n",
      "\n",
      "Elements greater than 30 and divisible by 10: [ 40  50  60  70  80  90 100]\n",
      "\n",
      "Original 2D Array:\n",
      " [[1 2 3]\n",
      " [4 5 6]\n",
      " [7 8 9]]\n",
      "\n",
      "Elements greater than 5 in 2D array:\n",
      " [6 7 8 9]\n"
     ]
    }
   ],
   "source": [
    "import numpy as np\n",
    "\n",
    "# Create a NumPy array\n",
    "a = np.array([10, 20, 30, 40, 50, 60, 70, 80, 90, 100])\n",
    "print(\"Original Array:\", a)\n",
    "\n",
    "# Boolean indexing to select elements greater than 50\n",
    "print(\"\\nElements greater than 50:\", a[a > 50])\n",
    "\n",
    "# Boolean indexing to select even elements\n",
    "print(\"\\nEven elements:\", a[a % 2 == 0])\n",
    "\n",
    "# Using boolean indexing to filter elements based on multiple conditions\n",
    "print(\"\\nElements greater than 30 and divisible by 10:\", a[(a > 30) & (a % 10 == 0)])\n",
    "\n",
    "# Boolean indexing in 2D arrays\n",
    "b = np.array([[1, 2, 3], [4, 5, 6], [7, 8, 9]])\n",
    "print(\"\\nOriginal 2D Array:\\n\", b)\n",
    "\n",
    "# Select elements greater than 5 in the 2D array\n",
    "print(\"\\nElements greater than 5 in 2D array:\\n\", b[b > 5])"
   ]
  },
  {
   "cell_type": "markdown",
   "id": "d8d296ab-3890-4323-887e-6e6e2e953239",
   "metadata": {},
   "source": [
    "# Slicing"
   ]
  },
  {
   "cell_type": "code",
   "execution_count": 3,
   "id": "afd2a2c6-d947-493d-b2b8-f7d809a35e6d",
   "metadata": {},
   "outputs": [
    {
     "name": "stdout",
     "output_type": "stream",
     "text": [
      "1D Array: [10 20 30 40 50]\n",
      "Sliced array from index 1 to 3: [20 30 40]\n",
      "Sliced array with step 2: [10 30 50]\n",
      "\n",
      "2D Array:\n",
      " [[1 2 3]\n",
      " [4 5 6]\n",
      " [7 8 9]]\n",
      "First row: [1 2 3]\n",
      "First column: [1 4 7]\n",
      "Subarray (first two rows, first two columns):\n",
      " [[1 2]\n",
      " [4 5]]\n",
      "\n",
      "3D Array:\n",
      " [[[0.84129546 0.15792064]\n",
      "  [0.00760944 0.37515335]\n",
      "  [0.13070929 0.75691941]]\n",
      "\n",
      " [[0.6584012  0.80922337]\n",
      "  [0.72823822 0.8045272 ]\n",
      "  [0.98938731 0.44417847]]\n",
      "\n",
      " [[0.31460976 0.45491058]\n",
      "  [0.80600634 0.79100879]\n",
      "  [0.46138737 0.11486606]]\n",
      "\n",
      " [[0.15490062 0.48140201]\n",
      "  [0.38692375 0.74922459]\n",
      "  [0.47498407 0.10077133]]]\n",
      "Sliced 2D array from the first slice of 3D array:\n",
      " [[0.84129546 0.15792064]\n",
      " [0.00760944 0.37515335]\n",
      " [0.13070929 0.75691941]]\n"
     ]
    }
   ],
   "source": [
    "import numpy as np\n",
    "\n",
    "# 1D Array Slicing\n",
    "a = np.array([10, 20, 30, 40, 50])\n",
    "print(\"1D Array:\", a)\n",
    "\n",
    "# Slicing (Selecting elements in a range)\n",
    "print(\"Sliced array from index 1 to 3:\", a[1:4])  # Output: [20 30 40]\n",
    "\n",
    "# Slicing with step\n",
    "print(\"Sliced array with step 2:\", a[::2])  # Output: [10 30 50]\n",
    "\n",
    "# 2D Array Slicing\n",
    "b = np.array([[1, 2, 3], [4, 5, 6], [7, 8, 9]])\n",
    "print(\"\\n2D Array:\\n\", b)\n",
    "\n",
    "# Slicing (Selecting entire rows or columns)\n",
    "print(\"First row:\", b[0])  # Output: [1 2 3]\n",
    "print(\"First column:\", b[:, 0])  # Output: [1 4 7]\n",
    "\n",
    "# Slicing (Selecting subarrays from specific rows and columns)\n",
    "print(\"Subarray (first two rows, first two columns):\\n\", b[:2, :2])  # Output: [[1 2] [4 5]]\n",
    "\n",
    "# 3D Array Slicing\n",
    "c = np.random.rand(4, 3, 2)\n",
    "print(\"\\n3D Array:\\n\", c)\n",
    "\n",
    "# Slicing (Selecting a slice of 2D array from the 3D array)\n",
    "print(\"Sliced 2D array from the first slice of 3D array:\\n\", c[0, :, :])"
   ]
  }
 ],
 "metadata": {
  "kernelspec": {
   "display_name": "Python 3 (ipykernel)",
   "language": "python",
   "name": "python3"
  },
  "language_info": {
   "codemirror_mode": {
    "name": "ipython",
    "version": 3
   },
   "file_extension": ".py",
   "mimetype": "text/x-python",
   "name": "python",
   "nbconvert_exporter": "python",
   "pygments_lexer": "ipython3",
   "version": "3.12.0"
  }
 },
 "nbformat": 4,
 "nbformat_minor": 5
}
