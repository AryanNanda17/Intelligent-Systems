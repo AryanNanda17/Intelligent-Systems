{
 "cells": [
  {
   "cell_type": "markdown",
   "id": "fb26c130-f057-4890-ac5e-14aa5a76d655",
   "metadata": {},
   "source": [
    "# I/0 Handling with NumPy\n",
    "- I/0 handling refers to the process of inputting and outputting data to and from a computer system.\n",
    "- This includes reading data from a variety of sources, such as files or databases, and writing data to different types of storage, such as hard drives or cloud storage.\n",
    "- I/0 handling is a crucial aspect of computer programming as it allows programs to interact with the outside world and manipulate data.\n",
    "\n",
    "Numpy provides several functions for I/O handling:\n",
    "1. `numpy.loadtxt`: This function is used to load data from a text file or a CSV file into a numpy array.\n",
    "2. `numpy.genfromtxt`: This function is used to load data from a text file or a CSV file into a numpy array, and can handle more complex data structures such as missing values, variable number of columns, etc.\n",
    "3. `numpy.savetxt`: This function is used to save data from a numpy array to a text file or a CSV file.\n",
    "4. `numpy.save`: This function is used to save data from a numpy array to a binary file. The data can be loaded later using the numpy.load function.\n",
    "5. `numpy.load`: This function is used to load data from a binary file created using numpy.savel."
   ]
  },
  {
   "cell_type": "markdown",
   "id": "2bcb3197-ba87-4c7b-954e-d8a44598df49",
   "metadata": {},
   "source": [
    "## 1. numpy.loadtxt"
   ]
  },
  {
   "cell_type": "code",
   "execution_count": 1,
   "id": "b29763e0-ce4e-4cb1-91a6-836d4249202a",
   "metadata": {},
   "outputs": [
    {
     "name": "stdout",
     "output_type": "stream",
     "text": [
      "demo data.txt file created.\n"
     ]
    }
   ],
   "source": [
    "# Create a sample data.txt file\n",
    "data = \"\"\"1.0 2.0 3.0\n",
    "4.0 5.0 6.0\n",
    "7.0 8.0 9.0\"\"\"\n",
    "\n",
    "with open('data.txt', 'w') as file:\n",
    "    file.write(data)\n",
    "\n",
    "print(\"demo data.txt file created.\")"
   ]
  },
  {
   "cell_type": "code",
   "execution_count": 2,
   "id": "c3a420ed-e27d-4090-818a-a4d27fcc04c8",
   "metadata": {},
   "outputs": [
    {
     "name": "stdout",
     "output_type": "stream",
     "text": [
      "[[1. 2. 3.]\n",
      " [4. 5. 6.]\n",
      " [7. 8. 9.]]\n"
     ]
    }
   ],
   "source": [
    "import numpy as np\n",
    "\n",
    "# Let's assume we have a text file \"data.txt\" with the following content:\n",
    "# 1.0 2.0 3.0\n",
    "# 4.0 5.0 6.0\n",
    "# 7.0 8.0 9.0\n",
    "\n",
    "# Load data from the text file\n",
    "data = np.loadtxt('data.txt')\n",
    "\n",
    "print(data)"
   ]
  },
  {
   "cell_type": "markdown",
   "id": "f6f9c2f1-4edb-4301-b78b-dae2d26e740b",
   "metadata": {},
   "source": [
    "## 2. numpy.genfromtxt"
   ]
  },
  {
   "cell_type": "code",
   "execution_count": 13,
   "id": "7f9846c3-3b6f-4e07-b67e-67731958a0bb",
   "metadata": {},
   "outputs": [
    {
     "name": "stdout",
     "output_type": "stream",
     "text": [
      "demo data_with_missing.csv file created.\n"
     ]
    }
   ],
   "source": [
    "import numpy as np\n",
    "\n",
    "# Create a CSV file with missing values\n",
    "data = \"\"\"1.0, 2.0, 3.0\n",
    "4.0, , 6.0\n",
    "7.0, 8.0, 9.0\"\"\"\n",
    "\n",
    "with open('data_with_missing.csv', 'w') as file:\n",
    "    file.write(data)\n",
    "\n",
    "print(\"demo data_with_missing.csv file created.\")"
   ]
  },
  {
   "cell_type": "code",
   "execution_count": 14,
   "id": "8bb827b9-c09d-4d51-bc75-47014cdf517e",
   "metadata": {},
   "outputs": [
    {
     "name": "stdout",
     "output_type": "stream",
     "text": [
      "[[ 1.  2.  3.]\n",
      " [ 4. nan  6.]\n",
      " [ 7.  8.  9.]]\n"
     ]
    }
   ],
   "source": [
    "# Load data from the CSV file, filling missing values with np.nan\n",
    "data_loaded = np.genfromtxt('data_with_missing.csv', delimiter=',', filling_values=np.nan)\n",
    "\n",
    "print(data_loaded)"
   ]
  },
  {
   "cell_type": "markdown",
   "id": "bd4ce7a9-7c39-4690-a65a-ac4dbd04d4c9",
   "metadata": {},
   "source": [
    "## 3. numpy.savetxt"
   ]
  },
  {
   "cell_type": "code",
   "execution_count": 15,
   "id": "770d5bd7-3ad8-4eb1-abfc-3318cd8337e2",
   "metadata": {},
   "outputs": [],
   "source": [
    "import numpy as np\n",
    "\n",
    "# Sample data\n",
    "data = np.array([[1.0, 2.0, 3.0], [4.0, 5.0, 6.0]])\n",
    "\n",
    "# Save the data to a text file \"output.txt\"\n",
    "np.savetxt('output.txt', data)\n",
    "\n",
    "# This will create a text file with the content:\n",
    "# 1.0 2.0 3.0\n",
    "# 4.0 5.0 6.0"
   ]
  },
  {
   "cell_type": "markdown",
   "id": "acae9917-fa7b-45df-be03-e9e4a9453e35",
   "metadata": {},
   "source": [
    "## 4. numpy.save"
   ]
  },
  {
   "cell_type": "code",
   "execution_count": 16,
   "id": "916066f1-db66-44a7-89de-432cc2f0d655",
   "metadata": {},
   "outputs": [],
   "source": [
    "import numpy as np\n",
    "\n",
    "# Sample data\n",
    "data = np.array([1.0, 2.0, 3.0, 4.0])\n",
    "\n",
    "# Save the data to a binary file \"output.npy\"\n",
    "np.save('output.npy', data)"
   ]
  },
  {
   "cell_type": "markdown",
   "id": "35f492d9-3de2-4c32-8ff9-8825fc7c9c67",
   "metadata": {},
   "source": [
    "## 5. numpy.load"
   ]
  },
  {
   "cell_type": "code",
   "execution_count": 17,
   "id": "c3ca807b-bb81-4d31-be64-8f1343f9a923",
   "metadata": {},
   "outputs": [
    {
     "name": "stdout",
     "output_type": "stream",
     "text": [
      "[1. 2. 3. 4.]\n"
     ]
    }
   ],
   "source": [
    "import numpy as np\n",
    "\n",
    "# Load data from the binary file \"output.npy\"\n",
    "data = np.load('output.npy')\n",
    "\n",
    "print(data)"
   ]
  },
  {
   "cell_type": "markdown",
   "id": "9cdfd540-f59a-4481-a878-7ab3e6497798",
   "metadata": {},
   "source": [
    "# Masking in NumPy\n",
    "- Masking in NumPy is a powerful technique for filtering or manipulating specific elements of an array based on a condition. This is done by creating a Boolean mask, which is an array of the same shape as the original array. Each element of the mask is either True or False, depending on whether the condition is met.\n",
    "\n",
    "-> The Boolean mask is then used to index the original array, allowing you to:\n",
    "- Extract elements that satisfy a condition.\n",
    "- Modify elements that satisfy a condition.\n",
    "\n",
    "-> How Masking Works:\n",
    "- Create a Mask: A mask is a Boolean array where each element is determined by applying a condition to the original array.\n",
    "- Apply the Mask: You can use the mask to select, modify, or filter elements from the original array."
   ]
  },
  {
   "cell_type": "markdown",
   "id": "dc9f9d2d-0525-4b3b-8856-88649c06b15d",
   "metadata": {},
   "source": [
    "## Extracting Elements Based on a Condition"
   ]
  },
  {
   "cell_type": "code",
   "execution_count": 18,
   "id": "cd048361-90b2-42df-a8e5-9f212269d2ee",
   "metadata": {},
   "outputs": [
    {
     "name": "stdout",
     "output_type": "stream",
     "text": [
      "Original Array: [1 3 5 7 9 2 4 6]\n",
      "Mask: [False False False  True  True False False  True]\n",
      "Filtered Elements (greater than 5): [7 9 6]\n"
     ]
    }
   ],
   "source": [
    "import numpy as np\n",
    "\n",
    "# Create a NumPy array\n",
    "arr = np.array([1, 3, 5, 7, 9, 2, 4, 6])\n",
    "\n",
    "# Create a Boolean mask where values are greater than 5\n",
    "mask = arr > 5\n",
    "\n",
    "# Apply the mask to the array (select elements greater than 5)\n",
    "filtered_elements = arr[mask]\n",
    "\n",
    "print(\"Original Array:\", arr)\n",
    "print(\"Mask:\", mask)\n",
    "print(\"Filtered Elements (greater than 5):\", filtered_elements)"
   ]
  },
  {
   "cell_type": "markdown",
   "id": "2d7b00fb-a119-46d4-bd4f-597a892fc217",
   "metadata": {},
   "source": [
    "## Modifying Elements Using a Mask"
   ]
  },
  {
   "cell_type": "code",
   "execution_count": 21,
   "id": "7802fb87-b1e3-4abd-ab5a-d3bbebb88754",
   "metadata": {},
   "outputs": [
    {
     "name": "stdout",
     "output_type": "stream",
     "text": [
      "Modified Array: [ 1  3  5 10 10  2  4 10]\n"
     ]
    }
   ],
   "source": [
    "import numpy as np\n",
    "\n",
    "# Create a NumPy array\n",
    "arr = np.array([1, 3, 5, 7, 9, 2, 4, 6])\n",
    "\n",
    "# Create a Boolean mask where values are greater than 5\n",
    "mask = arr > 5\n",
    "\n",
    "# Modify the elements greater than 5 to be 10\n",
    "arr[mask] = 10\n",
    "\n",
    "print(\"Modified Array:\", arr)"
   ]
  },
  {
   "cell_type": "markdown",
   "id": "73adb9ce-1166-48fd-b779-795d262d8ec2",
   "metadata": {},
   "source": [
    "## Using Masking to Handle Missing Data"
   ]
  },
  {
   "cell_type": "code",
   "execution_count": 22,
   "id": "f897202a-35d5-400d-b0fb-95c93b2a9662",
   "metadata": {},
   "outputs": [
    {
     "name": "stdout",
     "output_type": "stream",
     "text": [
      "Array after replacing NaN with 0: [1. 2. 0. 4. 5.]\n"
     ]
    }
   ],
   "source": [
    "import numpy as np\n",
    "\n",
    "# Create an array with NaN values\n",
    "arr = np.array([1.0, 2.0, np.nan, 4.0, 5.0])\n",
    "\n",
    "# Create a mask for NaN values\n",
    "mask = np.isnan(arr)\n",
    "\n",
    "# Replace NaN values with 0\n",
    "arr[mask] = 0\n",
    "\n",
    "print(\"Array after replacing NaN with 0:\", arr)"
   ]
  },
  {
   "cell_type": "markdown",
   "id": "90ca587e-1073-4896-ae50-972497675c93",
   "metadata": {},
   "source": [
    "# Structured Array"
   ]
  },
  {
   "cell_type": "markdown",
   "id": "8093c3f9-76fe-46b4-858d-290d710ccd09",
   "metadata": {},
   "source": [
    "- Key Points:\n",
    "1. Heterogeneous Data: A structured array allows each field (column) to have a different data type (e.g., integers, strings, floats).\n",
    "2. Named Fields: Each column in the array has a name, making it easy to access specific data.\n",
    "3. Custom Data Types: You can define custom data types for fields (e.g., using datetime or other custom types).\n",
    "4. Efficient Storage: Structured arrays are efficient in terms of both memory and data access, as they store data in a compact, organized w"
   ]
  },
  {
   "cell_type": "markdown",
   "id": "5c5fe15d-f77f-4626-9a90-d22a17bad943",
   "metadata": {},
   "source": [
    "## 1. Creating a Structured Array"
   ]
  },
  {
   "cell_type": "code",
   "execution_count": 26,
   "id": "297c82a7-02ce-407b-b761-7cc1a6c79984",
   "metadata": {},
   "outputs": [
    {
     "name": "stdout",
     "output_type": "stream",
     "text": [
      "[('Alice', 25, 5.6) ('Bob', 30, 5.8)]\n"
     ]
    }
   ],
   "source": [
    "import numpy as np\n",
    "\n",
    "# Define the data type (dtype) for the structured array\n",
    "dtype = [('name', 'U10'),  # 'U10' means string of 10 characters\n",
    "         ('age', 'i4'),     # 'i4' means 4-byte integer\n",
    "         ('height', 'f4')]  # 'f4' means 4-byte float\n",
    "\n",
    "# Create the structured array\n",
    "structured_array = np.array([('Alice', 25, 5.6), \n",
    "                             ('Bob', 30, 5.8)], dtype=dtype)\n",
    "\n",
    "print(structured_array)"
   ]
  },
  {
   "cell_type": "markdown",
   "id": "eff6f942-b20e-4175-8303-9c0d6570fc9f",
   "metadata": {},
   "source": [
    "## Accessing Data by Field Name\n",
    "You can access individual fields by their names:"
   ]
  },
  {
   "cell_type": "code",
   "execution_count": 27,
   "id": "6264ea5d-510a-4a7a-9e15-defde1f191ec",
   "metadata": {},
   "outputs": [
    {
     "name": "stdout",
     "output_type": "stream",
     "text": [
      "[25 30]\n"
     ]
    }
   ],
   "source": [
    "# Access the 'age' field\n",
    "ages = structured_array['age']\n",
    "print(ages)  # Output: [25 30]"
   ]
  },
  {
   "cell_type": "markdown",
   "id": "46ce4305-12ad-4145-83fc-6b9874606806",
   "metadata": {},
   "source": [
    "## Creating Nested Structured Arrays\n",
    "You can also have nested structures, where one field is itself a structured array:"
   ]
  },
  {
   "cell_type": "code",
   "execution_count": 28,
   "id": "20f2ba0b-26a4-44f1-8776-e9b7d585db7e",
   "metadata": {},
   "outputs": [
    {
     "name": "stdout",
     "output_type": "stream",
     "text": [
      "[('Alice', ('Main St', 'New York'))]\n"
     ]
    }
   ],
   "source": [
    "# Nested structured array\n",
    "dtype_nested = [('name', 'U10'), \n",
    "                ('address', [('street', 'U10'), ('city', 'U10')])]\n",
    "\n",
    "nested_array = np.array([('Alice', ('Main St', 'New York'))], dtype=dtype_nested)\n",
    "\n",
    "print(nested_array)"
   ]
  }
 ],
 "metadata": {
  "kernelspec": {
   "display_name": "Python 3 (ipykernel)",
   "language": "python",
   "name": "python3"
  },
  "language_info": {
   "codemirror_mode": {
    "name": "ipython",
    "version": 3
   },
   "file_extension": ".py",
   "mimetype": "text/x-python",
   "name": "python",
   "nbconvert_exporter": "python",
   "pygments_lexer": "ipython3",
   "version": "3.12.0"
  }
 },
 "nbformat": 4,
 "nbformat_minor": 5
}
