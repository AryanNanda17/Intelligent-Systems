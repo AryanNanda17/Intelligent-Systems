{
 "cells": [
  {
   "cell_type": "markdown",
   "id": "98750776-cee5-4008-af53-8af254d049a4",
   "metadata": {},
   "source": [
    "# For Loops Vs Vectorization"
   ]
  },
  {
   "cell_type": "code",
   "execution_count": 2,
   "id": "b0a32000-e7d0-43c7-90d0-d47e00ae8461",
   "metadata": {},
   "outputs": [
    {
     "name": "stdout",
     "output_type": "stream",
     "text": [
      "250274.50259128155\n",
      "Vectorized version: 1.6779899597167969 ms\n",
      "250274.50259128946\n",
      "For loop version: 360.7478141784668 ms\n"
     ]
    }
   ],
   "source": [
    "import numpy as np\n",
    "import time\n",
    "\n",
    "# Generate two large random arrays\n",
    "a = np.random.rand(1000000)\n",
    "b = np.random.rand(1000000)\n",
    "\n",
    "# Vectorized version\n",
    "tic = time.time()\n",
    "c = np.dot(a, b)  # Compute dot product using vectorization\n",
    "toc = time.time()\n",
    "\n",
    "print(c)\n",
    "print(\"Vectorized version: \" + str(1000 * (toc - tic)) + \" ms\")  # Convert time to milliseconds\n",
    "\n",
    "# Loop version\n",
    "c = 0\n",
    "tic = time.time()\n",
    "for i in range(1000000):\n",
    "    c += a[i] * b[i]\n",
    "toc = time.time()\n",
    "\n",
    "print(c)\n",
    "print(\"For loop version: \" + str(1000 * (toc - tic)) + \" ms\")  # Convert time to milliseconds"
   ]
  },
  {
   "cell_type": "markdown",
   "id": "dce4c977-f838-4229-9472-53cdc481e491",
   "metadata": {},
   "source": [
    "## Why is Vectorization Faster?\n",
    "\n",
    "- Low-Level Optimizations: NumPy and similar libraries are implemented in C/C++, which are optimized for performance.\n",
    "- Reduced Overhead: Python loops have significant overhead due to interpretation and function calls for each iteration. Vectorized operations eliminate this by executing in compiled code.\n",
    "- Parallelization: Vectorized operations often take advantage of parallelism at the hardware level, using multiple CPU cores or vectorized instructions."
   ]
  }
 ],
 "metadata": {
  "kernelspec": {
   "display_name": "Python 3 (ipykernel)",
   "language": "python",
   "name": "python3"
  },
  "language_info": {
   "codemirror_mode": {
    "name": "ipython",
    "version": 3
   },
   "file_extension": ".py",
   "mimetype": "text/x-python",
   "name": "python",
   "nbconvert_exporter": "python",
   "pygments_lexer": "ipython3",
   "version": "3.12.0"
  }
 },
 "nbformat": 4,
 "nbformat_minor": 5
}
